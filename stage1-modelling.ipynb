{
 "cells": [
  {
   "cell_type": "markdown",
   "metadata": {},
   "source": [
    "# Stage 1 - Individual Empowerment 👨🏻‍🎓\n",
    "Analytical Model to empower individuals to monitor their cardiovascular health at home\n",
    "\n",
    "<br>\n",
    "\n",
    "**Goal:**\n",
    "- obtain important features (personal) for predicting heart attack risk\n",
    "- the best model that automatically predict heart attack risk based on the important features (>80% accuracy rate) \n",
    "\n",
    "**Dataset:**\n",
    "- heart_pki_2020_encoded.csv\n",
    "\n",
    "**Models:**\n",
    "1. Logistic Regression\n",
    "\n",
    "**PipeLine:**\n",
    "1. `Train-test split`\n",
    "2. Train on dataset -> `SMOTE` (balancing 'HeartDisease' class) -> `RFE` (Recursive Feature Elimination, i.e. Backwards Elimination)\n",
    "3. Final model `evaluation` with test dataset\n",
    "\n",
    "<br>\n",
    "\n",
    "<img src=\"https://scikit-learn.org/stable/_images/grid_search_workflow.png\" alt=\"image\" width=\"750\" />\n",
    "\n",
    "<br>\n",
    "<hr>\n",
    "\n"
   ]
  },
  {
   "cell_type": "markdown",
   "metadata": {},
   "source": [
    "## 0. Pre-modelling preparations\n",
    "- Install dependencies\n",
    "- Import libraries and dataset"
   ]
  },
  {
   "cell_type": "code",
   "execution_count": 118,
   "metadata": {},
   "outputs": [],
   "source": [
    "# install dependencies\n",
    "# Run the following code in your terminal if you don't have the dependecy installed:\n",
    "    # pip install -U imbalanced-learn --user\n",
    "    # pip install statsmodels\n",
    "\n",
    "# Or run in notebook:    \n",
    "# %pip install -U imbalanced-learn \n",
    "# %pip install statsmodels"
   ]
  },
  {
   "cell_type": "code",
   "execution_count": 1,
   "metadata": {},
   "outputs": [],
   "source": [
    "# import basic libraries\n",
    "import pandas as pd\n",
    "import numpy as np\n",
    "\n",
    "# model-related libraries\n",
    "from sklearn import preprocessing\n",
    "from sklearn.linear_model import LogisticRegression\n",
    "from sklearn.model_selection import train_test_split\n",
    "from sklearn import metrics\n"
   ]
  },
  {
   "cell_type": "code",
   "execution_count": 2,
   "metadata": {},
   "outputs": [
    {
     "data": {
      "text/html": [
       "<div>\n",
       "<style scoped>\n",
       "    .dataframe tbody tr th:only-of-type {\n",
       "        vertical-align: middle;\n",
       "    }\n",
       "\n",
       "    .dataframe tbody tr th {\n",
       "        vertical-align: top;\n",
       "    }\n",
       "\n",
       "    .dataframe thead th {\n",
       "        text-align: right;\n",
       "    }\n",
       "</style>\n",
       "<table border=\"1\" class=\"dataframe\">\n",
       "  <thead>\n",
       "    <tr style=\"text-align: right;\">\n",
       "      <th></th>\n",
       "      <th>HeartDisease</th>\n",
       "      <th>BMI</th>\n",
       "      <th>PhysicalHealth</th>\n",
       "      <th>MentalHealth</th>\n",
       "      <th>SleepTime</th>\n",
       "      <th>Smoking_No</th>\n",
       "      <th>Smoking_Yes</th>\n",
       "      <th>AlcoholDrinking_No</th>\n",
       "      <th>AlcoholDrinking_Yes</th>\n",
       "      <th>Stroke_No</th>\n",
       "      <th>...</th>\n",
       "      <th>GenHealth_Fair</th>\n",
       "      <th>GenHealth_Good</th>\n",
       "      <th>GenHealth_Poor</th>\n",
       "      <th>GenHealth_Very good</th>\n",
       "      <th>Asthma_No</th>\n",
       "      <th>Asthma_Yes</th>\n",
       "      <th>KidneyDisease_No</th>\n",
       "      <th>KidneyDisease_Yes</th>\n",
       "      <th>SkinCancer_No</th>\n",
       "      <th>SkinCancer_Yes</th>\n",
       "    </tr>\n",
       "  </thead>\n",
       "  <tbody>\n",
       "    <tr>\n",
       "      <th>0</th>\n",
       "      <td>0</td>\n",
       "      <td>16.60</td>\n",
       "      <td>3.0</td>\n",
       "      <td>30.0</td>\n",
       "      <td>5.0</td>\n",
       "      <td>0.0</td>\n",
       "      <td>1.0</td>\n",
       "      <td>1.0</td>\n",
       "      <td>0.0</td>\n",
       "      <td>1.0</td>\n",
       "      <td>...</td>\n",
       "      <td>0.0</td>\n",
       "      <td>0.0</td>\n",
       "      <td>0.0</td>\n",
       "      <td>1.0</td>\n",
       "      <td>0.0</td>\n",
       "      <td>1.0</td>\n",
       "      <td>1.0</td>\n",
       "      <td>0.0</td>\n",
       "      <td>0.0</td>\n",
       "      <td>1.0</td>\n",
       "    </tr>\n",
       "    <tr>\n",
       "      <th>1</th>\n",
       "      <td>0</td>\n",
       "      <td>20.34</td>\n",
       "      <td>0.0</td>\n",
       "      <td>0.0</td>\n",
       "      <td>7.0</td>\n",
       "      <td>1.0</td>\n",
       "      <td>0.0</td>\n",
       "      <td>1.0</td>\n",
       "      <td>0.0</td>\n",
       "      <td>0.0</td>\n",
       "      <td>...</td>\n",
       "      <td>0.0</td>\n",
       "      <td>0.0</td>\n",
       "      <td>0.0</td>\n",
       "      <td>1.0</td>\n",
       "      <td>1.0</td>\n",
       "      <td>0.0</td>\n",
       "      <td>1.0</td>\n",
       "      <td>0.0</td>\n",
       "      <td>1.0</td>\n",
       "      <td>0.0</td>\n",
       "    </tr>\n",
       "    <tr>\n",
       "      <th>2</th>\n",
       "      <td>0</td>\n",
       "      <td>26.58</td>\n",
       "      <td>20.0</td>\n",
       "      <td>30.0</td>\n",
       "      <td>8.0</td>\n",
       "      <td>0.0</td>\n",
       "      <td>1.0</td>\n",
       "      <td>1.0</td>\n",
       "      <td>0.0</td>\n",
       "      <td>1.0</td>\n",
       "      <td>...</td>\n",
       "      <td>1.0</td>\n",
       "      <td>0.0</td>\n",
       "      <td>0.0</td>\n",
       "      <td>0.0</td>\n",
       "      <td>0.0</td>\n",
       "      <td>1.0</td>\n",
       "      <td>1.0</td>\n",
       "      <td>0.0</td>\n",
       "      <td>1.0</td>\n",
       "      <td>0.0</td>\n",
       "    </tr>\n",
       "    <tr>\n",
       "      <th>3</th>\n",
       "      <td>0</td>\n",
       "      <td>24.21</td>\n",
       "      <td>0.0</td>\n",
       "      <td>0.0</td>\n",
       "      <td>6.0</td>\n",
       "      <td>1.0</td>\n",
       "      <td>0.0</td>\n",
       "      <td>1.0</td>\n",
       "      <td>0.0</td>\n",
       "      <td>1.0</td>\n",
       "      <td>...</td>\n",
       "      <td>0.0</td>\n",
       "      <td>1.0</td>\n",
       "      <td>0.0</td>\n",
       "      <td>0.0</td>\n",
       "      <td>1.0</td>\n",
       "      <td>0.0</td>\n",
       "      <td>1.0</td>\n",
       "      <td>0.0</td>\n",
       "      <td>0.0</td>\n",
       "      <td>1.0</td>\n",
       "    </tr>\n",
       "    <tr>\n",
       "      <th>4</th>\n",
       "      <td>0</td>\n",
       "      <td>23.71</td>\n",
       "      <td>28.0</td>\n",
       "      <td>0.0</td>\n",
       "      <td>8.0</td>\n",
       "      <td>1.0</td>\n",
       "      <td>0.0</td>\n",
       "      <td>1.0</td>\n",
       "      <td>0.0</td>\n",
       "      <td>1.0</td>\n",
       "      <td>...</td>\n",
       "      <td>0.0</td>\n",
       "      <td>0.0</td>\n",
       "      <td>0.0</td>\n",
       "      <td>1.0</td>\n",
       "      <td>1.0</td>\n",
       "      <td>0.0</td>\n",
       "      <td>1.0</td>\n",
       "      <td>0.0</td>\n",
       "      <td>1.0</td>\n",
       "      <td>0.0</td>\n",
       "    </tr>\n",
       "    <tr>\n",
       "      <th>...</th>\n",
       "      <td>...</td>\n",
       "      <td>...</td>\n",
       "      <td>...</td>\n",
       "      <td>...</td>\n",
       "      <td>...</td>\n",
       "      <td>...</td>\n",
       "      <td>...</td>\n",
       "      <td>...</td>\n",
       "      <td>...</td>\n",
       "      <td>...</td>\n",
       "      <td>...</td>\n",
       "      <td>...</td>\n",
       "      <td>...</td>\n",
       "      <td>...</td>\n",
       "      <td>...</td>\n",
       "      <td>...</td>\n",
       "      <td>...</td>\n",
       "      <td>...</td>\n",
       "      <td>...</td>\n",
       "      <td>...</td>\n",
       "      <td>...</td>\n",
       "    </tr>\n",
       "    <tr>\n",
       "      <th>315247</th>\n",
       "      <td>0</td>\n",
       "      <td>22.22</td>\n",
       "      <td>0.0</td>\n",
       "      <td>0.0</td>\n",
       "      <td>8.0</td>\n",
       "      <td>1.0</td>\n",
       "      <td>0.0</td>\n",
       "      <td>1.0</td>\n",
       "      <td>0.0</td>\n",
       "      <td>1.0</td>\n",
       "      <td>...</td>\n",
       "      <td>0.0</td>\n",
       "      <td>0.0</td>\n",
       "      <td>0.0</td>\n",
       "      <td>0.0</td>\n",
       "      <td>1.0</td>\n",
       "      <td>0.0</td>\n",
       "      <td>1.0</td>\n",
       "      <td>0.0</td>\n",
       "      <td>1.0</td>\n",
       "      <td>0.0</td>\n",
       "    </tr>\n",
       "    <tr>\n",
       "      <th>315248</th>\n",
       "      <td>1</td>\n",
       "      <td>27.41</td>\n",
       "      <td>7.0</td>\n",
       "      <td>0.0</td>\n",
       "      <td>6.0</td>\n",
       "      <td>0.0</td>\n",
       "      <td>1.0</td>\n",
       "      <td>1.0</td>\n",
       "      <td>0.0</td>\n",
       "      <td>1.0</td>\n",
       "      <td>...</td>\n",
       "      <td>1.0</td>\n",
       "      <td>0.0</td>\n",
       "      <td>0.0</td>\n",
       "      <td>0.0</td>\n",
       "      <td>0.0</td>\n",
       "      <td>1.0</td>\n",
       "      <td>1.0</td>\n",
       "      <td>0.0</td>\n",
       "      <td>1.0</td>\n",
       "      <td>0.0</td>\n",
       "    </tr>\n",
       "    <tr>\n",
       "      <th>315249</th>\n",
       "      <td>0</td>\n",
       "      <td>29.84</td>\n",
       "      <td>0.0</td>\n",
       "      <td>0.0</td>\n",
       "      <td>5.0</td>\n",
       "      <td>0.0</td>\n",
       "      <td>1.0</td>\n",
       "      <td>1.0</td>\n",
       "      <td>0.0</td>\n",
       "      <td>1.0</td>\n",
       "      <td>...</td>\n",
       "      <td>0.0</td>\n",
       "      <td>0.0</td>\n",
       "      <td>0.0</td>\n",
       "      <td>1.0</td>\n",
       "      <td>0.0</td>\n",
       "      <td>1.0</td>\n",
       "      <td>1.0</td>\n",
       "      <td>0.0</td>\n",
       "      <td>1.0</td>\n",
       "      <td>0.0</td>\n",
       "    </tr>\n",
       "    <tr>\n",
       "      <th>315250</th>\n",
       "      <td>0</td>\n",
       "      <td>24.24</td>\n",
       "      <td>0.0</td>\n",
       "      <td>0.0</td>\n",
       "      <td>6.0</td>\n",
       "      <td>1.0</td>\n",
       "      <td>0.0</td>\n",
       "      <td>1.0</td>\n",
       "      <td>0.0</td>\n",
       "      <td>1.0</td>\n",
       "      <td>...</td>\n",
       "      <td>0.0</td>\n",
       "      <td>1.0</td>\n",
       "      <td>0.0</td>\n",
       "      <td>0.0</td>\n",
       "      <td>1.0</td>\n",
       "      <td>0.0</td>\n",
       "      <td>1.0</td>\n",
       "      <td>0.0</td>\n",
       "      <td>1.0</td>\n",
       "      <td>0.0</td>\n",
       "    </tr>\n",
       "    <tr>\n",
       "      <th>315251</th>\n",
       "      <td>0</td>\n",
       "      <td>46.56</td>\n",
       "      <td>0.0</td>\n",
       "      <td>0.0</td>\n",
       "      <td>8.0</td>\n",
       "      <td>1.0</td>\n",
       "      <td>0.0</td>\n",
       "      <td>1.0</td>\n",
       "      <td>0.0</td>\n",
       "      <td>1.0</td>\n",
       "      <td>...</td>\n",
       "      <td>0.0</td>\n",
       "      <td>1.0</td>\n",
       "      <td>0.0</td>\n",
       "      <td>0.0</td>\n",
       "      <td>1.0</td>\n",
       "      <td>0.0</td>\n",
       "      <td>1.0</td>\n",
       "      <td>0.0</td>\n",
       "      <td>1.0</td>\n",
       "      <td>0.0</td>\n",
       "    </tr>\n",
       "  </tbody>\n",
       "</table>\n",
       "<p>315252 rows × 51 columns</p>\n",
       "</div>"
      ],
      "text/plain": [
       "        HeartDisease    BMI  PhysicalHealth  MentalHealth  SleepTime  \\\n",
       "0                  0  16.60             3.0          30.0        5.0   \n",
       "1                  0  20.34             0.0           0.0        7.0   \n",
       "2                  0  26.58            20.0          30.0        8.0   \n",
       "3                  0  24.21             0.0           0.0        6.0   \n",
       "4                  0  23.71            28.0           0.0        8.0   \n",
       "...              ...    ...             ...           ...        ...   \n",
       "315247             0  22.22             0.0           0.0        8.0   \n",
       "315248             1  27.41             7.0           0.0        6.0   \n",
       "315249             0  29.84             0.0           0.0        5.0   \n",
       "315250             0  24.24             0.0           0.0        6.0   \n",
       "315251             0  46.56             0.0           0.0        8.0   \n",
       "\n",
       "        Smoking_No  Smoking_Yes  AlcoholDrinking_No  AlcoholDrinking_Yes  \\\n",
       "0              0.0          1.0                 1.0                  0.0   \n",
       "1              1.0          0.0                 1.0                  0.0   \n",
       "2              0.0          1.0                 1.0                  0.0   \n",
       "3              1.0          0.0                 1.0                  0.0   \n",
       "4              1.0          0.0                 1.0                  0.0   \n",
       "...            ...          ...                 ...                  ...   \n",
       "315247         1.0          0.0                 1.0                  0.0   \n",
       "315248         0.0          1.0                 1.0                  0.0   \n",
       "315249         0.0          1.0                 1.0                  0.0   \n",
       "315250         1.0          0.0                 1.0                  0.0   \n",
       "315251         1.0          0.0                 1.0                  0.0   \n",
       "\n",
       "        Stroke_No  ...  GenHealth_Fair  GenHealth_Good  GenHealth_Poor  \\\n",
       "0             1.0  ...             0.0             0.0             0.0   \n",
       "1             0.0  ...             0.0             0.0             0.0   \n",
       "2             1.0  ...             1.0             0.0             0.0   \n",
       "3             1.0  ...             0.0             1.0             0.0   \n",
       "4             1.0  ...             0.0             0.0             0.0   \n",
       "...           ...  ...             ...             ...             ...   \n",
       "315247        1.0  ...             0.0             0.0             0.0   \n",
       "315248        1.0  ...             1.0             0.0             0.0   \n",
       "315249        1.0  ...             0.0             0.0             0.0   \n",
       "315250        1.0  ...             0.0             1.0             0.0   \n",
       "315251        1.0  ...             0.0             1.0             0.0   \n",
       "\n",
       "        GenHealth_Very good  Asthma_No  Asthma_Yes  KidneyDisease_No  \\\n",
       "0                       1.0        0.0         1.0               1.0   \n",
       "1                       1.0        1.0         0.0               1.0   \n",
       "2                       0.0        0.0         1.0               1.0   \n",
       "3                       0.0        1.0         0.0               1.0   \n",
       "4                       1.0        1.0         0.0               1.0   \n",
       "...                     ...        ...         ...               ...   \n",
       "315247                  0.0        1.0         0.0               1.0   \n",
       "315248                  0.0        0.0         1.0               1.0   \n",
       "315249                  1.0        0.0         1.0               1.0   \n",
       "315250                  0.0        1.0         0.0               1.0   \n",
       "315251                  0.0        1.0         0.0               1.0   \n",
       "\n",
       "        KidneyDisease_Yes  SkinCancer_No  SkinCancer_Yes  \n",
       "0                     0.0            0.0             1.0  \n",
       "1                     0.0            1.0             0.0  \n",
       "2                     0.0            1.0             0.0  \n",
       "3                     0.0            0.0             1.0  \n",
       "4                     0.0            1.0             0.0  \n",
       "...                   ...            ...             ...  \n",
       "315247                0.0            1.0             0.0  \n",
       "315248                0.0            1.0             0.0  \n",
       "315249                0.0            1.0             0.0  \n",
       "315250                0.0            1.0             0.0  \n",
       "315251                0.0            1.0             0.0  \n",
       "\n",
       "[315252 rows x 51 columns]"
      ]
     },
     "execution_count": 2,
     "metadata": {},
     "output_type": "execute_result"
    }
   ],
   "source": [
    "# import personal_key_indicator dataset\n",
    "# note: dataset is already OneHotEncoded and Integer Encoded in 'data-cleaning-preprocessing.ipynb'\n",
    "pki_df = pd.read_csv('datasets/heart_pki_2020_encoded.csv')\n",
    "pki_df"
   ]
  },
  {
   "cell_type": "code",
   "execution_count": 3,
   "metadata": {},
   "outputs": [
    {
     "data": {
      "text/plain": [
       "array(['HeartDisease', 'BMI', 'PhysicalHealth', 'MentalHealth',\n",
       "       'SleepTime', 'Smoking_No', 'Smoking_Yes', 'AlcoholDrinking_No',\n",
       "       'AlcoholDrinking_Yes', 'Stroke_No', 'Stroke_Yes', 'DiffWalking_No',\n",
       "       'DiffWalking_Yes', 'Sex_Female', 'Sex_Male', 'AgeCategory_18-24',\n",
       "       'AgeCategory_25-29', 'AgeCategory_30-34', 'AgeCategory_35-39',\n",
       "       'AgeCategory_40-44', 'AgeCategory_45-49', 'AgeCategory_50-54',\n",
       "       'AgeCategory_55-59', 'AgeCategory_60-64', 'AgeCategory_65-69',\n",
       "       'AgeCategory_70-74', 'AgeCategory_75-79',\n",
       "       'AgeCategory_80 or older', 'Race_American Indian/Alaskan Native',\n",
       "       'Race_Asian', 'Race_Black', 'Race_Hispanic', 'Race_Other',\n",
       "       'Race_White', 'Diabetic_No', 'Diabetic_No, borderline diabetes',\n",
       "       'Diabetic_Yes', 'Diabetic_Yes (during pregnancy)',\n",
       "       'PhysicalActivity_No', 'PhysicalActivity_Yes',\n",
       "       'GenHealth_Excellent', 'GenHealth_Fair', 'GenHealth_Good',\n",
       "       'GenHealth_Poor', 'GenHealth_Very good', 'Asthma_No', 'Asthma_Yes',\n",
       "       'KidneyDisease_No', 'KidneyDisease_Yes', 'SkinCancer_No',\n",
       "       'SkinCancer_Yes'], dtype=object)"
      ]
     },
     "execution_count": 3,
     "metadata": {},
     "output_type": "execute_result"
    }
   ],
   "source": [
    "pki_df.columns.values"
   ]
  },
  {
   "cell_type": "markdown",
   "metadata": {},
   "source": [
    "<hr>\n",
    "\n",
    "## 1. Logistic Regression\n",
    "\n",
    "**Why logistic regression?**\n",
    "- Depedent variable, `HeartDisease` can be encoded in binary (Yes: 1, No: 1)\n",
    "- Large dataset of 315252 rows\n",
    "\n",
    "\n",
    "**References:**\n",
    "- https://towardsdatascience.com/building-a-logistic-regression-in-python-step-by-step-becd4d56c9c8"
   ]
  },
  {
   "cell_type": "markdown",
   "metadata": {},
   "source": [
    "#### 1.1 Train-Test split + SMOTE (Synthetic Minority Oversampling Technique)\n",
    "\n",
    "**1.1 a) Train-Test spliting of dataset**"
   ]
  },
  {
   "cell_type": "code",
   "execution_count": 4,
   "metadata": {},
   "outputs": [],
   "source": [
    "X = pki_df.loc[:, pki_df.columns != 'HeartDisease']\n",
    "y = pki_df.loc[:, pki_df.columns == 'HeartDisease']\n",
    "\n",
    "X_train, X_test, y_train, y_test = train_test_split(X, y, test_size=0.3, random_state=0)"
   ]
  },
  {
   "cell_type": "markdown",
   "metadata": {},
   "source": [
    "**1.1 b) The 'HeartDisease' is unbalanced, so we need to resample it (using SMOTE on trainset) for Recursive Feature Elimination**\n",
    "\n",
    "Note: only for trainset for RFE (Recursive Feature Elimination)"
   ]
  },
  {
   "cell_type": "code",
   "execution_count": 5,
   "metadata": {},
   "outputs": [
    {
     "name": "stdout",
     "output_type": "stream",
     "text": [
      "Proportion of HeartDisease == 0: 0.9156198850443454\n",
      "Proportion of HeartDisease == 1: 0.08438011495565452\n"
     ]
    }
   ],
   "source": [
    "num_of_HD_Yes = len(pki_df[pki_df['HeartDisease'] == 1])\n",
    "num_of_HD_No = len(pki_df[pki_df['HeartDisease'] == 0])\n",
    "num_rows = len(pki_df)\n",
    "\n",
    "print('Proportion of HeartDisease == 0:', num_of_HD_No/num_rows)\n",
    "print('Proportion of HeartDisease == 1:', num_of_HD_Yes/num_rows)"
   ]
  },
  {
   "cell_type": "code",
   "execution_count": 6,
   "metadata": {},
   "outputs": [
    {
     "name": "stdout",
     "output_type": "stream",
     "text": [
      "===== Oversampled data =====\n",
      "Total number of rows: 404218\n",
      "Number of Heart Disease == 0 rows: 202109\n",
      "Number of Heart Disease == 1 rows: 202109\n",
      "Proportion of HeartDisease == 0: 0.5\n",
      "Proportion of HeartDisease == 1: 0.5\n"
     ]
    }
   ],
   "source": [
    "# Oversampling for trainset to fixed imbalanced 'HeartDisease' class\n",
    "\n",
    "from imblearn.over_sampling import SMOTE\n",
    "\n",
    "os = SMOTE(random_state=0)\n",
    "\n",
    "X_train_os, y_train_os = os.fit_resample(X_train, y_train)\n",
    "X_train_os = pd.DataFrame(data = X_train_os, columns = X_train.columns)\n",
    "y_train_os = pd.DataFrame(data = y_train_os, columns = y_train.columns)\n",
    "\n",
    "\n",
    "# check the oversampled data (train)\n",
    "print(\"===== Oversampled data =====\")\n",
    "\n",
    "num_of_HD_Yes = len(y_train_os[y_train_os['HeartDisease'] == 1])\n",
    "num_of_HD_No = len(y_train_os[y_train_os['HeartDisease'] == 0])\n",
    "num_rows = len(X_train_os)\n",
    "\n",
    "print(\"Total number of rows:\", num_rows)\n",
    "print(\"Number of Heart Disease == 0 rows:\", num_of_HD_No)\n",
    "print(\"Number of Heart Disease == 1 rows:\", num_of_HD_Yes)\n",
    "\n",
    "print(\"Proportion of HeartDisease == 0:\", num_of_HD_No/num_rows)\n",
    "print(\"Proportion of HeartDisease == 1:\", num_of_HD_Yes/num_rows)"
   ]
  },
  {
   "cell_type": "code",
   "execution_count": 7,
   "metadata": {},
   "outputs": [
    {
     "data": {
      "text/html": [
       "<div>\n",
       "<style scoped>\n",
       "    .dataframe tbody tr th:only-of-type {\n",
       "        vertical-align: middle;\n",
       "    }\n",
       "\n",
       "    .dataframe tbody tr th {\n",
       "        vertical-align: top;\n",
       "    }\n",
       "\n",
       "    .dataframe thead th {\n",
       "        text-align: right;\n",
       "    }\n",
       "</style>\n",
       "<table border=\"1\" class=\"dataframe\">\n",
       "  <thead>\n",
       "    <tr style=\"text-align: right;\">\n",
       "      <th></th>\n",
       "      <th>BMI</th>\n",
       "      <th>PhysicalHealth</th>\n",
       "      <th>MentalHealth</th>\n",
       "      <th>SleepTime</th>\n",
       "      <th>Smoking_No</th>\n",
       "      <th>Smoking_Yes</th>\n",
       "      <th>AlcoholDrinking_No</th>\n",
       "      <th>AlcoholDrinking_Yes</th>\n",
       "      <th>Stroke_No</th>\n",
       "      <th>Stroke_Yes</th>\n",
       "      <th>...</th>\n",
       "      <th>GenHealth_Fair</th>\n",
       "      <th>GenHealth_Good</th>\n",
       "      <th>GenHealth_Poor</th>\n",
       "      <th>GenHealth_Very good</th>\n",
       "      <th>Asthma_No</th>\n",
       "      <th>Asthma_Yes</th>\n",
       "      <th>KidneyDisease_No</th>\n",
       "      <th>KidneyDisease_Yes</th>\n",
       "      <th>SkinCancer_No</th>\n",
       "      <th>SkinCancer_Yes</th>\n",
       "    </tr>\n",
       "  </thead>\n",
       "  <tbody>\n",
       "    <tr>\n",
       "      <th>18662</th>\n",
       "      <td>32.98</td>\n",
       "      <td>0.0</td>\n",
       "      <td>0.0</td>\n",
       "      <td>7.0</td>\n",
       "      <td>0.0</td>\n",
       "      <td>1.0</td>\n",
       "      <td>1.0</td>\n",
       "      <td>0.0</td>\n",
       "      <td>1.0</td>\n",
       "      <td>0.0</td>\n",
       "      <td>...</td>\n",
       "      <td>0.0</td>\n",
       "      <td>0.0</td>\n",
       "      <td>0.0</td>\n",
       "      <td>1.0</td>\n",
       "      <td>1.0</td>\n",
       "      <td>0.0</td>\n",
       "      <td>1.0</td>\n",
       "      <td>0.0</td>\n",
       "      <td>1.0</td>\n",
       "      <td>0.0</td>\n",
       "    </tr>\n",
       "    <tr>\n",
       "      <th>45050</th>\n",
       "      <td>25.61</td>\n",
       "      <td>0.0</td>\n",
       "      <td>0.0</td>\n",
       "      <td>6.0</td>\n",
       "      <td>0.0</td>\n",
       "      <td>1.0</td>\n",
       "      <td>1.0</td>\n",
       "      <td>0.0</td>\n",
       "      <td>1.0</td>\n",
       "      <td>0.0</td>\n",
       "      <td>...</td>\n",
       "      <td>0.0</td>\n",
       "      <td>0.0</td>\n",
       "      <td>0.0</td>\n",
       "      <td>0.0</td>\n",
       "      <td>1.0</td>\n",
       "      <td>0.0</td>\n",
       "      <td>1.0</td>\n",
       "      <td>0.0</td>\n",
       "      <td>1.0</td>\n",
       "      <td>0.0</td>\n",
       "    </tr>\n",
       "    <tr>\n",
       "      <th>191308</th>\n",
       "      <td>16.24</td>\n",
       "      <td>0.0</td>\n",
       "      <td>0.0</td>\n",
       "      <td>7.0</td>\n",
       "      <td>1.0</td>\n",
       "      <td>0.0</td>\n",
       "      <td>1.0</td>\n",
       "      <td>0.0</td>\n",
       "      <td>1.0</td>\n",
       "      <td>0.0</td>\n",
       "      <td>...</td>\n",
       "      <td>0.0</td>\n",
       "      <td>0.0</td>\n",
       "      <td>0.0</td>\n",
       "      <td>1.0</td>\n",
       "      <td>1.0</td>\n",
       "      <td>0.0</td>\n",
       "      <td>1.0</td>\n",
       "      <td>0.0</td>\n",
       "      <td>1.0</td>\n",
       "      <td>0.0</td>\n",
       "    </tr>\n",
       "    <tr>\n",
       "      <th>105093</th>\n",
       "      <td>18.30</td>\n",
       "      <td>0.0</td>\n",
       "      <td>0.0</td>\n",
       "      <td>9.0</td>\n",
       "      <td>1.0</td>\n",
       "      <td>0.0</td>\n",
       "      <td>1.0</td>\n",
       "      <td>0.0</td>\n",
       "      <td>1.0</td>\n",
       "      <td>0.0</td>\n",
       "      <td>...</td>\n",
       "      <td>0.0</td>\n",
       "      <td>0.0</td>\n",
       "      <td>0.0</td>\n",
       "      <td>0.0</td>\n",
       "      <td>1.0</td>\n",
       "      <td>0.0</td>\n",
       "      <td>1.0</td>\n",
       "      <td>0.0</td>\n",
       "      <td>1.0</td>\n",
       "      <td>0.0</td>\n",
       "    </tr>\n",
       "    <tr>\n",
       "      <th>161942</th>\n",
       "      <td>31.57</td>\n",
       "      <td>5.0</td>\n",
       "      <td>0.0</td>\n",
       "      <td>8.0</td>\n",
       "      <td>0.0</td>\n",
       "      <td>1.0</td>\n",
       "      <td>1.0</td>\n",
       "      <td>0.0</td>\n",
       "      <td>1.0</td>\n",
       "      <td>0.0</td>\n",
       "      <td>...</td>\n",
       "      <td>0.0</td>\n",
       "      <td>0.0</td>\n",
       "      <td>0.0</td>\n",
       "      <td>1.0</td>\n",
       "      <td>1.0</td>\n",
       "      <td>0.0</td>\n",
       "      <td>1.0</td>\n",
       "      <td>0.0</td>\n",
       "      <td>1.0</td>\n",
       "      <td>0.0</td>\n",
       "    </tr>\n",
       "  </tbody>\n",
       "</table>\n",
       "<p>5 rows × 50 columns</p>\n",
       "</div>"
      ],
      "text/plain": [
       "          BMI  PhysicalHealth  MentalHealth  SleepTime  Smoking_No  \\\n",
       "18662   32.98             0.0           0.0        7.0         0.0   \n",
       "45050   25.61             0.0           0.0        6.0         0.0   \n",
       "191308  16.24             0.0           0.0        7.0         1.0   \n",
       "105093  18.30             0.0           0.0        9.0         1.0   \n",
       "161942  31.57             5.0           0.0        8.0         0.0   \n",
       "\n",
       "        Smoking_Yes  AlcoholDrinking_No  AlcoholDrinking_Yes  Stroke_No  \\\n",
       "18662           1.0                 1.0                  0.0        1.0   \n",
       "45050           1.0                 1.0                  0.0        1.0   \n",
       "191308          0.0                 1.0                  0.0        1.0   \n",
       "105093          0.0                 1.0                  0.0        1.0   \n",
       "161942          1.0                 1.0                  0.0        1.0   \n",
       "\n",
       "        Stroke_Yes  ...  GenHealth_Fair  GenHealth_Good  GenHealth_Poor  \\\n",
       "18662          0.0  ...             0.0             0.0             0.0   \n",
       "45050          0.0  ...             0.0             0.0             0.0   \n",
       "191308         0.0  ...             0.0             0.0             0.0   \n",
       "105093         0.0  ...             0.0             0.0             0.0   \n",
       "161942         0.0  ...             0.0             0.0             0.0   \n",
       "\n",
       "        GenHealth_Very good  Asthma_No  Asthma_Yes  KidneyDisease_No  \\\n",
       "18662                   1.0        1.0         0.0               1.0   \n",
       "45050                   0.0        1.0         0.0               1.0   \n",
       "191308                  1.0        1.0         0.0               1.0   \n",
       "105093                  0.0        1.0         0.0               1.0   \n",
       "161942                  1.0        1.0         0.0               1.0   \n",
       "\n",
       "        KidneyDisease_Yes  SkinCancer_No  SkinCancer_Yes  \n",
       "18662                 0.0            1.0             0.0  \n",
       "45050                 0.0            1.0             0.0  \n",
       "191308                0.0            1.0             0.0  \n",
       "105093                0.0            1.0             0.0  \n",
       "161942                0.0            1.0             0.0  \n",
       "\n",
       "[5 rows x 50 columns]"
      ]
     },
     "execution_count": 7,
     "metadata": {},
     "output_type": "execute_result"
    }
   ],
   "source": [
    "X_train.head()"
   ]
  },
  {
   "cell_type": "markdown",
   "metadata": {},
   "source": [
    "#### 1.2 Model Building with Recursive Feature Elimination\n",
    "\n",
    "- i.e. `Backwards Elimination` until the number of features desired is reached\n",
    "- https://scikit-learn.org/stable/modules/generated/sklearn.feature_selection.RFE.html\n",
    "- https://www.scikit-yb.org/en/latest/api/model_selection/rfecv.html\n",
    "\n",
    "> Recursive feature elimination.\n",
    "> \n",
    "> Given an external estimator that assigns weights to features (e.g., the coefficients of a linear model), the goal of recursive feature elimination (RFE) is to select features by recursively considering smaller and smaller sets of features. \n",
    "> - Features are ranked by the model’s coef_ or feature_importances_ attributes, \n",
    "> - Recursively eliminating a small number of features (least important) per loop until the **desired number of features to select is eventually reached.**\n",
    "> - Dependencies and collinearity that may exist in the model are eliminate\n",
    "\n",
    "\n",
    "> Backwards Elimation (https://www.simplilearn.com/what-is-backward-elimination-technique-in-machine-learning-article):\n",
    "> - The model includes the initial and all explanatory variables in backward elimination. \n",
    "> - Then, the variable with the highest p-value is removed from the model. \n",
    "> - This process is repeated until all variables in the model have a p-value below a given threshold.\n"
   ]
  },
  {
   "cell_type": "markdown",
   "metadata": {},
   "source": [
    "**1.2 \\*) If have access to multiple GPUs and can wait for hours/days for computation\"**\n",
    "- Due to `hardward and computing power constraints`, we will NOT be running the following code.\n",
    "- Large dataset size & large number of features (50)\n",
    "\n",
    "What the code does:\n",
    "- Creating a matrix of RFECV results (1 feature to 50 features) to get the optimal number of features from 1 to 50\n",
    "- Plot the number of features vs accuracy in a graph"
   ]
  },
  {
   "cell_type": "code",
   "execution_count": 46,
   "metadata": {},
   "outputs": [],
   "source": [
    "# import matplotlib.pyplot as plt\n",
    "# from sklearn.svm import SVC\n",
    "# from sklearn.model_selection import StratifiedKFold\n",
    "# from sklearn.feature_selection import RFECV\n",
    "\n",
    "# # Create the RFE object and compute a cross-validated score.\n",
    "# svc = SVC(kernel=\"linear\")\n",
    "# # The \"accuracy\" scoring shows the proportion of correct classifications\n",
    "\n",
    "# min_features_to_select = 1  # Minimum number of features to consider\n",
    "# rfecv = RFECV(\n",
    "#     estimator = svc,\n",
    "#     step = 1,\n",
    "#     cv = StratifiedKFold(5),\n",
    "#     scoring = \"accuracy\",\n",
    "#     min_features_to_select = min_features_to_select,\n",
    "# )\n",
    "# rfecv.fit(X_train_os, y_train_os.values.ravel())\n",
    "\n",
    "\n",
    "# print(\"Optimal number of features : %d\" % rfecv.n_features_)\n",
    "# print(rfecv.get_feature_names_out())\n",
    "\n",
    "\n",
    "# # Plot number of features VS. cross-validation scores\n",
    "# plt.figure()\n",
    "# plt.xlabel(\"Number of features selected\")\n",
    "# plt.ylabel(\"Cross validation score (accuracy)\")\n",
    "# plt.plot(\n",
    "#     range(min_features_to_select, len(rfecv.grid_scores_) + min_features_to_select),\n",
    "#     rfecv.grid_scores_,\n",
    "# )\n",
    "# plt.show()"
   ]
  },
  {
   "cell_type": "markdown",
   "metadata": {},
   "source": [
    "**1.2 a) 1st Model (logreg_m20 -> top 20 features)**\n",
    "\n",
    "Note: due to no access to GPU, large dataset, and large number of features, we will be conducting RFE to select 20 most important features and branch off from there (+-5 number of features) and compare to find the best model\n"
   ]
  },
  {
   "cell_type": "code",
   "execution_count": 106,
   "metadata": {},
   "outputs": [],
   "source": [
    "from sklearn.feature_selection import RFE\n",
    "from sklearn.linear_model import LogisticRegression\n",
    "import statsmodels.api as sm\n",
    "\n",
    "logreg = LogisticRegression(solver='lbfgs', max_iter=1000)\n",
    "\n",
    "def rfeLogistic(X, y, n_features):\n",
    "    logreg = LogisticRegression(solver='lbfgs', max_iter=1000)\n",
    "\n",
    "    rfe = RFE(\n",
    "        logreg, \n",
    "        n_features_to_select=n_features, \n",
    "        step=1\n",
    "    )\n",
    "    rfe = rfe.fit(X, y.values.ravel())\n",
    "    return rfe\n",
    "\n",
    "# Logit (Logistic Regression) summary with p-values and pseudo R-squared\n",
    "# https://www.statsmodels.org/stable/generated/statsmodels.discrete.discrete_model.Logit.html#statsmodels.discrete.discrete_model.Logit\n",
    "def logitSummary(X, y, rfe):\n",
    "    # top features\n",
    "    pki_df_top_features = rfe.get_feature_names_out()\n",
    "    \n",
    "    # summary with p-values and pseudo R-squared\n",
    "    logit_model = sm.Logit(y, X[pki_df_top_features])\n",
    "    # logit_model_result = logit_model.fit()\n",
    "    logit_model_result = logit_model.fit_regularized()\n",
    "\n",
    "    print(logit_model_result.summary2())\n",
    "\n",
    "    return (logit_model, logit_model_result)\n",
    "\n",
    "def fitLogRegModel(X_train, y_train, X_test, y_test, rfe):\n",
    "    # top features\n",
    "    pki_df_top_features = rfe.get_feature_names_out()\n",
    "\n",
    "    # Logistic Regression\n",
    "    logreg_model = LogisticRegression(solver='lbfgs', max_iter=1000)\n",
    "    logreg_model_result = logreg_model.fit(X_train[pki_df_top_features], y_train.values.ravel())\n",
    "\n",
    "\n",
    "    print('Train Accuracy: {:.2f}'.format(logreg_model.score(X_train[pki_df_top_features], y_train.values.ravel())))\n",
    "    print('Test Accuracy: {:.2f}'.format(logreg_model.score(X_test[pki_df_top_features], y_test.values.ravel())))\n",
    "\n",
    "    return (logreg_model, logreg_model_result);\n",
    "\n"
   ]
  },
  {
   "cell_type": "code",
   "execution_count": 89,
   "metadata": {},
   "outputs": [],
   "source": [
    "# recursive feature elimination\n",
    "rfe_20 = rfeLogistic(X_train_os, y_train_os, 20)"
   ]
  },
  {
   "cell_type": "code",
   "execution_count": 110,
   "metadata": {},
   "outputs": [
    {
     "name": "stdout",
     "output_type": "stream",
     "text": [
      "=== train dataset ===\n",
      "Optimization terminated successfully    (Exit mode 0)\n",
      "            Current function value: 0.48540594841588053\n",
      "            Iterations: 111\n",
      "            Function evaluations: 111\n",
      "            Gradient evaluations: 111\n",
      "                             Results: Logit\n",
      "=========================================================================\n",
      "Model:                 Logit              Pseudo R-squared:   0.300      \n",
      "Dependent Variable:    HeartDisease       AIC:                392459.6433\n",
      "Date:                  2022-10-18 21:06   BIC:                392677.8375\n",
      "No. Observations:      404218             Log-Likelihood:     -1.9621e+05\n",
      "Df Model:              19                 LL-Null:            -2.8018e+05\n",
      "Df Residuals:          404198             LLR p-value:        0.0000     \n",
      "Converged:             1.0000             Scale:              1.0000     \n",
      "No. Iterations:        111.0000                                          \n",
      "-------------------------------------------------------------------------\n",
      "                         Coef.  Std.Err.     z     P>|z|   [0.025  0.975]\n",
      "-------------------------------------------------------------------------\n",
      "AlcoholDrinking_Yes     -0.5376   0.0200  -26.8648 0.0000 -0.5768 -0.4984\n",
      "Stroke_No               -0.6848   0.0106  -64.7816 0.0000 -0.7055 -0.6640\n",
      "Stroke_Yes               0.5334   0.0210   25.4408 0.0000  0.4923  0.5745\n",
      "Sex_Male                 0.8672   0.0083  105.0328 0.0000  0.8510  0.8834\n",
      "AgeCategory_18-24       -2.4511   0.0414  -59.2640 0.0000 -2.5321 -2.3700\n",
      "AgeCategory_25-29       -2.0829   0.0387  -53.8280 0.0000 -2.1588 -2.0071\n",
      "AgeCategory_30-34       -1.7076   0.0314  -54.4546 0.0000 -1.7691 -1.6461\n",
      "AgeCategory_35-39       -1.6127   0.0285  -56.5238 0.0000 -1.6687 -1.5568\n",
      "AgeCategory_40-44       -1.2438   0.0241  -51.5805 0.0000 -1.2911 -1.1965\n",
      "AgeCategory_45-49       -0.9130   0.0209  -43.6017 0.0000 -0.9540 -0.8720\n",
      "AgeCategory_65-69        0.5845   0.0129   45.3751 0.0000  0.5592  0.6097\n",
      "AgeCategory_70-74        0.9858   0.0129   76.5502 0.0000  0.9606  1.0111\n",
      "AgeCategory_75-79        1.1737   0.0146   80.5214 0.0000  1.1452  1.2023\n",
      "AgeCategory_80 or older  1.5198   0.0138  110.2893 0.0000  1.4928  1.5469\n",
      "Race_Asian              -0.8572   0.0391  -21.9198 0.0000 -0.9339 -0.7806\n",
      "Diabetic_Yes             0.5416   0.0106   51.1467 0.0000  0.5209  0.5624\n",
      "GenHealth_Excellent     -1.4848   0.0146 -101.6633 0.0000 -1.5134 -1.4562\n",
      "GenHealth_Fair           0.6894   0.0124   55.7397 0.0000  0.6652  0.7137\n",
      "GenHealth_Poor           1.3850   0.0196   70.8266 0.0000  1.3467  1.4233\n",
      "GenHealth_Very good     -0.7574   0.0099  -76.7825 0.0000 -0.7767 -0.7381\n",
      "=========================================================================\n",
      "\n"
     ]
    }
   ],
   "source": [
    "# model summary\n",
    "print('=== train dataset ===')\n",
    "(logit_m20, logit_m20_result) = logitSummary(X_train_os, y_train_os, rfe_20)"
   ]
  },
  {
   "cell_type": "code",
   "execution_count": 111,
   "metadata": {},
   "outputs": [
    {
     "data": {
      "text/plain": [
       "AlcoholDrinking_Yes        5.665612e-159\n",
       "Stroke_No                   0.000000e+00\n",
       "Stroke_Yes                 8.930473e-143\n",
       "Sex_Male                    0.000000e+00\n",
       "AgeCategory_18-24           0.000000e+00\n",
       "AgeCategory_25-29           0.000000e+00\n",
       "AgeCategory_30-34           0.000000e+00\n",
       "AgeCategory_35-39           0.000000e+00\n",
       "AgeCategory_40-44           0.000000e+00\n",
       "AgeCategory_45-49           0.000000e+00\n",
       "AgeCategory_65-69           0.000000e+00\n",
       "AgeCategory_70-74           0.000000e+00\n",
       "AgeCategory_75-79           0.000000e+00\n",
       "AgeCategory_80 or older     0.000000e+00\n",
       "Race_Asian                 1.681827e-106\n",
       "Diabetic_Yes                0.000000e+00\n",
       "GenHealth_Excellent         0.000000e+00\n",
       "GenHealth_Fair              0.000000e+00\n",
       "GenHealth_Poor              0.000000e+00\n",
       "GenHealth_Very good         0.000000e+00\n",
       "dtype: float64"
      ]
     },
     "execution_count": 111,
     "metadata": {},
     "output_type": "execute_result"
    }
   ],
   "source": [
    "# p-values of variables\n",
    "logit_m20_result.pvalues"
   ]
  },
  {
   "cell_type": "code",
   "execution_count": 112,
   "metadata": {},
   "outputs": [
    {
     "name": "stdout",
     "output_type": "stream",
     "text": [
      "Train Accuracy: 0.77\n",
      "Test Accuracy: 0.73\n"
     ]
    }
   ],
   "source": [
    "# fitting logistic regression model and test accuracy\n",
    "(logreg_m20, logreg_m20_result) = fitLogRegModel(X_train_os, y_train_os, X_test, y_test, rfe_20)"
   ]
  },
  {
   "cell_type": "markdown",
   "metadata": {},
   "source": [
    "Conclusion (logreg_m20):\n",
    "- pseduo r-squared is 0.3, which is between 0.2 and 0.4, indicating excellent fit\n",
    "- p-values of all 20 important variables are close to 0, signifying that they are all statistically significant\n",
    "- train and test accuracy quite high at 0.77 and 0.73 respectively\n",
    "\n",
    "<br>\n",
    "\n",
    "Let's see if increasing the number of features will increase our testset accuracy"
   ]
  },
  {
   "cell_type": "markdown",
   "metadata": {},
   "source": [
    "**1.2 b) 2nd Model (logreg_m25 -> top 25 features)**"
   ]
  },
  {
   "cell_type": "code",
   "execution_count": 93,
   "metadata": {},
   "outputs": [],
   "source": [
    "# recursive feature elimination\n",
    "rfe_25 = rfeLogistic(X_train_os, y_train_os, 25)"
   ]
  },
  {
   "cell_type": "code",
   "execution_count": 113,
   "metadata": {},
   "outputs": [
    {
     "name": "stdout",
     "output_type": "stream",
     "text": [
      "=== train dataset ===\n",
      "Optimization terminated successfully    (Exit mode 0)\n",
      "            Current function value: 0.47868435426391026\n",
      "            Iterations: 112\n",
      "            Function evaluations: 112\n",
      "            Gradient evaluations: 112\n",
      "                                   Results: Logit\n",
      "====================================================================================\n",
      "Model:                    Logit                  Pseudo R-squared:       0.309      \n",
      "Dependent Variable:       HeartDisease           AIC:                    387035.6646\n",
      "Date:                     2022-10-18 21:07       BIC:                    387308.4074\n",
      "No. Observations:         404218                 Log-Likelihood:         -1.9349e+05\n",
      "Df Model:                 24                     LL-Null:                -2.8018e+05\n",
      "Df Residuals:             404193                 LLR p-value:            0.0000     \n",
      "Converged:                1.0000                 Scale:                  1.0000     \n",
      "No. Iterations:           112.0000                                                  \n",
      "------------------------------------------------------------------------------------\n",
      "                         Coef.    Std.Err.     z     P>|z|     [0.025       0.975]  \n",
      "------------------------------------------------------------------------------------\n",
      "Smoking_No              -0.4194      0.0083 -50.3173 0.0000      -0.4357     -0.4031\n",
      "AlcoholDrinking_Yes     -0.6393      0.0202 -31.6440 0.0000      -0.6789     -0.5997\n",
      "Stroke_No               -0.5125 123575.8667  -0.0000 1.0000 -242204.7606 242203.7356\n",
      "Stroke_Yes               0.6885 123575.8667   0.0000 1.0000 -242203.5596 242204.9366\n",
      "Sex_Female              -0.4652 123575.8667  -0.0000 1.0000 -242204.7133 242203.7829\n",
      "Sex_Male                 0.3425 123575.8667   0.0000 1.0000 -242203.9056 242204.5906\n",
      "AgeCategory_18-24       -2.0747      0.0420 -49.4397 0.0000      -2.1569     -1.9924\n",
      "AgeCategory_25-29       -1.7866      0.0394 -45.3655 0.0000      -1.8638     -1.7094\n",
      "AgeCategory_30-34       -1.4621      0.0322 -45.3859 0.0000      -1.5253     -1.3990\n",
      "AgeCategory_35-39       -1.3957      0.0295 -47.3385 0.0000      -1.4535     -1.3379\n",
      "AgeCategory_40-44       -1.0254      0.0252 -40.7270 0.0000      -1.0748     -0.9761\n",
      "AgeCategory_45-49       -0.6810      0.0221 -30.7999 0.0000      -0.7244     -0.6377\n",
      "AgeCategory_60-64        0.4455      0.0151  29.4578 0.0000       0.4158      0.4751\n",
      "AgeCategory_65-69        0.7451      0.0146  50.9987 0.0000       0.7165      0.7738\n",
      "AgeCategory_70-74        1.1196      0.0146  76.5139 0.0000       1.0910      1.1483\n",
      "AgeCategory_75-79        1.2920      0.0162  79.8563 0.0000       1.2603      1.3237\n",
      "AgeCategory_80 or older  1.6654      0.0155 107.6744 0.0000       1.6350      1.6957\n",
      "Race_Asian              -0.4455      0.0404 -11.0189 0.0000      -0.5248     -0.3663\n",
      "Race_White               0.3984      0.0120  33.2592 0.0000       0.3749      0.4219\n",
      "Diabetic_Yes             0.5364      0.0108  49.7034 0.0000       0.5152      0.5575\n",
      "GenHealth_Excellent     -1.4195      0.0148 -96.1425 0.0000      -1.4485     -1.3906\n",
      "GenHealth_Fair           0.6576      0.0126  52.3543 0.0000       0.6330      0.6822\n",
      "GenHealth_Poor           1.2762      0.0198  64.3536 0.0000       1.2373      1.3150\n",
      "GenHealth_Very good     -0.7312      0.0100 -73.1652 0.0000      -0.7508     -0.7116\n",
      "KidneyDisease_Yes        0.4666      0.0193  24.1353 0.0000       0.4287      0.5045\n",
      "====================================================================================\n",
      "\n"
     ]
    }
   ],
   "source": [
    "# model summary\n",
    "print('=== train dataset ===')\n",
    "(logit_m25, logit_m25_result) = logitSummary(X_train_os, y_train_os, rfe_25)"
   ]
  },
  {
   "cell_type": "code",
   "execution_count": 114,
   "metadata": {},
   "outputs": [
    {
     "data": {
      "text/plain": [
       "Smoking_No                  0.000000e+00\n",
       "AlcoholDrinking_Yes        9.172218e-220\n",
       "Stroke_No                   9.999967e-01\n",
       "Stroke_Yes                  9.999956e-01\n",
       "Sex_Female                  9.999970e-01\n",
       "Sex_Male                    9.999978e-01\n",
       "AgeCategory_18-24           0.000000e+00\n",
       "AgeCategory_25-29           0.000000e+00\n",
       "AgeCategory_30-34           0.000000e+00\n",
       "AgeCategory_35-39           0.000000e+00\n",
       "AgeCategory_40-44           0.000000e+00\n",
       "AgeCategory_45-49          2.631790e-208\n",
       "AgeCategory_60-64          1.000632e-190\n",
       "AgeCategory_65-69           0.000000e+00\n",
       "AgeCategory_70-74           0.000000e+00\n",
       "AgeCategory_75-79           0.000000e+00\n",
       "AgeCategory_80 or older     0.000000e+00\n",
       "Race_Asian                  3.097206e-28\n",
       "Race_White                 1.504186e-242\n",
       "Diabetic_Yes                0.000000e+00\n",
       "GenHealth_Excellent         0.000000e+00\n",
       "GenHealth_Fair              0.000000e+00\n",
       "GenHealth_Poor              0.000000e+00\n",
       "GenHealth_Very good         0.000000e+00\n",
       "KidneyDisease_Yes          1.064893e-128\n",
       "dtype: float64"
      ]
     },
     "execution_count": 114,
     "metadata": {},
     "output_type": "execute_result"
    }
   ],
   "source": [
    "# p-values of variables\n",
    "logit_m25_result.pvalues"
   ]
  },
  {
   "cell_type": "code",
   "execution_count": 115,
   "metadata": {},
   "outputs": [
    {
     "name": "stdout",
     "output_type": "stream",
     "text": [
      "Train Accuracy: 0.77\n",
      "Test Accuracy: 0.75\n"
     ]
    }
   ],
   "source": [
    "# fitting logistic regression model and test accuracy\n",
    "(logreg_m25, logreg_m25_result) = fitLogRegModel(X_train_os, y_train_os, X_test, y_test, rfe_25)"
   ]
  },
  {
   "cell_type": "markdown",
   "metadata": {},
   "source": [
    "Conclusion (logreg_m25):\n",
    "- pseduo r-squared is 0.309, which is between 0.2 and 0.4, indicating excellent fit\n",
    "- train and test accuracy quite high at 0.77 and 0.75 respectively, which is `better` than logreg_m20's test accuracy\n",
    "- `however`, the p-values of 4 variables are close to 1 (Stroke_No, Stroke_Yes, Sex_Female, Sex_Male), signifying that they are all not statistically significant\n",
    "\n",
    "\n",
    "<br>\n",
    "\n",
    "Let's see if decreasing the number of features by 4 will remove this statitisically insignificant variables"
   ]
  },
  {
   "cell_type": "markdown",
   "metadata": {},
   "source": [
    "**1.2 c) 3rd Model (logreg_m21 -> top 21 features)**"
   ]
  },
  {
   "cell_type": "code",
   "execution_count": 116,
   "metadata": {},
   "outputs": [],
   "source": [
    "# recursive feature elimination\n",
    "rfe_21 = rfeLogistic(X_train_os, y_train_os, 21)"
   ]
  },
  {
   "cell_type": "code",
   "execution_count": 117,
   "metadata": {},
   "outputs": [
    {
     "name": "stdout",
     "output_type": "stream",
     "text": [
      "=== train dataset ===\n",
      "Optimization terminated successfully    (Exit mode 0)\n",
      "            Current function value: 0.4841614871374755\n",
      "            Iterations: 118\n",
      "            Function evaluations: 118\n",
      "            Gradient evaluations: 118\n",
      "                             Results: Logit\n",
      "=========================================================================\n",
      "Model:                 Logit              Pseudo R-squared:   0.302      \n",
      "Dependent Variable:    HeartDisease       AIC:                391455.5760\n",
      "Date:                  2022-10-18 21:15   BIC:                391684.6799\n",
      "No. Observations:      404218             Log-Likelihood:     -1.9571e+05\n",
      "Df Model:              20                 LL-Null:            -2.8018e+05\n",
      "Df Residuals:          404197             LLR p-value:        0.0000     \n",
      "Converged:             1.0000             Scale:              1.0000     \n",
      "No. Iterations:        118.0000                                          \n",
      "-------------------------------------------------------------------------\n",
      "                         Coef.  Std.Err.     z     P>|z|   [0.025  0.975]\n",
      "-------------------------------------------------------------------------\n",
      "AlcoholDrinking_Yes     -0.5297   0.0200  -26.4382 0.0000 -0.5689 -0.4904\n",
      "Stroke_No               -0.8888   0.0125  -71.2044 0.0000 -0.9132 -0.8643\n",
      "Stroke_Yes               0.3255   0.0220   14.7899 0.0000  0.2824  0.3687\n",
      "Sex_Male                 0.8642   0.0083  104.4957 0.0000  0.8479  0.8804\n",
      "AgeCategory_18-24       -2.2466   0.0419  -53.6425 0.0000 -2.3287 -2.1645\n",
      "AgeCategory_25-29       -1.8772   0.0392  -47.8484 0.0000 -1.9540 -1.8003\n",
      "AgeCategory_30-34       -1.5030   0.0320  -46.9131 0.0000 -1.5658 -1.4402\n",
      "AgeCategory_35-39       -1.4088   0.0293  -48.1065 0.0000 -1.4661 -1.3514\n",
      "AgeCategory_40-44       -1.0391   0.0250  -41.5727 0.0000 -1.0881 -0.9901\n",
      "AgeCategory_45-49       -0.7073   0.0220  -32.2208 0.0000 -0.7503 -0.6643\n",
      "AgeCategory_60-64        0.4748   0.0150   31.6555 0.0000  0.4454  0.5042\n",
      "AgeCategory_65-69        0.7899   0.0145   54.5382 0.0000  0.7615  0.8183\n",
      "AgeCategory_70-74        1.1912   0.0145   82.2372 0.0000  1.1628  1.2196\n",
      "AgeCategory_75-79        1.3790   0.0160   86.1269 0.0000  1.3476  1.4103\n",
      "AgeCategory_80 or older  1.7240   0.0153  112.8211 0.0000  1.6941  1.7540\n",
      "Race_Asian              -0.8470   0.0392  -21.6085 0.0000 -0.9238 -0.7702\n",
      "Diabetic_Yes             0.5338   0.0106   50.3298 0.0000  0.5130  0.5546\n",
      "GenHealth_Excellent     -1.4790   0.0146 -101.1001 0.0000 -1.5077 -1.4503\n",
      "GenHealth_Fair           0.6913   0.0124   55.7806 0.0000  0.6670  0.7156\n",
      "GenHealth_Poor           1.3907   0.0196   70.9929 0.0000  1.3523  1.4291\n",
      "GenHealth_Very good     -0.7560   0.0099  -76.5161 0.0000 -0.7754 -0.7367\n",
      "=========================================================================\n",
      "\n"
     ]
    }
   ],
   "source": [
    "# model summary\n",
    "print('=== train dataset ===')\n",
    "(logit_m21, logit_m21_result) = logitSummary(X_train_os, y_train_os, rfe_21)"
   ]
  },
  {
   "cell_type": "code",
   "execution_count": 118,
   "metadata": {},
   "outputs": [
    {
     "data": {
      "text/plain": [
       "AlcoholDrinking_Yes        4.982480e-154\n",
       "Stroke_No                   0.000000e+00\n",
       "Stroke_Yes                  1.702987e-49\n",
       "Sex_Male                    0.000000e+00\n",
       "AgeCategory_18-24           0.000000e+00\n",
       "AgeCategory_25-29           0.000000e+00\n",
       "AgeCategory_30-34           0.000000e+00\n",
       "AgeCategory_35-39           0.000000e+00\n",
       "AgeCategory_40-44           0.000000e+00\n",
       "AgeCategory_45-49          9.031435e-228\n",
       "AgeCategory_60-64          6.379376e-220\n",
       "AgeCategory_65-69           0.000000e+00\n",
       "AgeCategory_70-74           0.000000e+00\n",
       "AgeCategory_75-79           0.000000e+00\n",
       "AgeCategory_80 or older     0.000000e+00\n",
       "Race_Asian                 1.492917e-103\n",
       "Diabetic_Yes                0.000000e+00\n",
       "GenHealth_Excellent         0.000000e+00\n",
       "GenHealth_Fair              0.000000e+00\n",
       "GenHealth_Poor              0.000000e+00\n",
       "GenHealth_Very good         0.000000e+00\n",
       "dtype: float64"
      ]
     },
     "execution_count": 118,
     "metadata": {},
     "output_type": "execute_result"
    }
   ],
   "source": [
    "# p-values of variables\n",
    "logit_m21_result.pvalues"
   ]
  },
  {
   "cell_type": "code",
   "execution_count": 119,
   "metadata": {},
   "outputs": [
    {
     "name": "stdout",
     "output_type": "stream",
     "text": [
      "Train Accuracy: 0.77\n",
      "Test Accuracy: 0.74\n"
     ]
    }
   ],
   "source": [
    "# fitting logistic regression model and test accuracy\n",
    "(logreg_m21, logreg_m21_result) = fitLogRegModel(X_train_os, y_train_os, X_test, y_test, rfe_21)"
   ]
  },
  {
   "cell_type": "markdown",
   "metadata": {},
   "source": [
    "Conclusion (logreg_m21):\n",
    "- pseduo r-squared is 0.302, which is between 0.2 and 0.4, indicating excellent fit\n",
    "- p-values of all 20 important variables are close to 0, signifying that they are all statistically significant (`better` than logreg_m25)\n",
    "- train and test accuracy quite high at 0.77 and 0.74 respectively, which is `better` than logreg_m20's test accuracy\n",
    "\n",
    "\n",
    "<br>\n",
    "\n",
    "This model appears the best :)"
   ]
  },
  {
   "cell_type": "markdown",
   "metadata": {},
   "source": [
    "#### 1.3 Model Evaluation\n",
    "\n",
    "- Confusion Matrix\n",
    "- Precision, recall, F1-score and support\n",
    "- ROC Curve\n",
    "\n",
    "\n",
    "> The `precision` is the ratio tp / (tp + fp) where tp is the number of true positives and fp the number of false positives. The precision is intuitively the ability of the classifier to not label a sample as positive if it is negative.\n",
    "> \n",
    "> The `recall` is the ratio tp / (tp + fn) where tp is the number of true positives and fn the number of false negatives. The recall is intuitively the ability of the classifier to find all the positive samples.\n",
    "> \n",
    "> The `F1-score` can be interpreted as a weighted harmonic mean of the precision and recall, where an F-beta score reaches its best value at 1 and worst score at 0.\n",
    "> \n",
    "> The `support` is the number of occurrences of each class in y_test."
   ]
  },
  {
   "cell_type": "code",
   "execution_count": 159,
   "metadata": {},
   "outputs": [],
   "source": [
    "# Confusion Metrics\n",
    "from sklearn.metrics import confusion_matrix\n",
    "\n",
    "def computeConfusionMatrix(y_test, y_pred):\n",
    "    print(confusion_matrix(y_test, y_pred))\n",
    "\n",
    "\n",
    "# Precision, Recall, F1-score and Support\n",
    "from sklearn.metrics import classification_report\n",
    "\n",
    "def computeClassificationReport(y_test, y_pred):\n",
    "    print(classification_report(y_test, y_pred))\n",
    "\n",
    "\n",
    "# ROC Curve\n",
    "import matplotlib.pyplot as plt\n",
    "plt.rc(\"font\", size=14)\n",
    "from sklearn.metrics import roc_auc_score\n",
    "from sklearn.metrics import roc_curve\n",
    "\n",
    "def computeROCCurve(logreg, X_test, y_test):    \n",
    "    logit_roc_auc = roc_auc_score(y_test, logreg.predict(X_test))\n",
    "    fpr, tpr, thresholds = roc_curve(y_test, logreg.predict_proba(X_test)[:,1])\n",
    "    plt.figure()\n",
    "    plt.plot(fpr, tpr, label='Logistic Regression (area = %0.2f)' % logit_roc_auc)\n",
    "    plt.plot([0, 1], [0, 1],'r--')\n",
    "    plt.xlim([0.0, 1.0])\n",
    "    plt.ylim([0.0, 1.05])\n",
    "    plt.xlabel('False Positive Rate')\n",
    "    plt.ylabel('True Positive Rate')\n",
    "    plt.title('Receiver operating characteristic')\n",
    "    plt.legend(loc=\"lower right\")\n",
    "    plt.savefig('Log_ROC')\n",
    "    plt.show()"
   ]
  },
  {
   "cell_type": "markdown",
   "metadata": {},
   "source": [
    "**1.4 a) Confusion Matrix**"
   ]
  },
  {
   "cell_type": "code",
   "execution_count": 164,
   "metadata": {},
   "outputs": [
    {
     "name": "stdout",
     "output_type": "stream",
     "text": [
      "===== logreg_m20 =====\n",
      "[[62392 24150]\n",
      " [ 1748  6286]]\n",
      "\n",
      "===== logreg_m25 =====\n",
      "[[64744 21798]\n",
      " [ 1865  6169]]\n",
      "\n",
      "===== logreg_m21 =====\n",
      "[[64034 22508]\n",
      " [ 1851  6183]]\n"
     ]
    }
   ],
   "source": [
    "# 1st model\n",
    "print('===== logreg_m20 =====')\n",
    "computeConfusionMatrix(y_test, logreg_m20.predict(X_test[rfe_20.get_feature_names_out()]))\n",
    "# 2nd model\n",
    "print('\\n===== logreg_m25 =====')\n",
    "computeConfusionMatrix(y_test, logreg_m25.predict(X_test[rfe_25.get_feature_names_out()]))\n",
    "# 3rd model\n",
    "print('\\n===== logreg_m21 =====')\n",
    "computeConfusionMatrix(y_test, logreg_m21.predict(X_test[rfe_21.get_feature_names_out()]))"
   ]
  },
  {
   "cell_type": "markdown",
   "metadata": {},
   "source": [
    "Interpretation:\n",
    "- `logreg_20`: 68678 correct predictions and 25898 incorrect predictions -> 72.62% accuracy\n",
    "- `logreg_25`: 70913 correct predictions and 23663 incorrect predictions -> 74.98% accuracy\n",
    "- `logreg_21`: 70217 correct predictions and 24359 incorrect predictions -> 74.24% accuracy\n",
    "\n",
    "> The accuracy is quite good! Especially for `logreg_21` and `logreg_25`!\n",
    "\n",
    "<br>\n",
    "\n",
    "We can explore more in depth about this confusion matrix by calculating the precision, recall, and f1-score"
   ]
  },
  {
   "cell_type": "markdown",
   "metadata": {},
   "source": [
    "**1.4 b) Precision, Recall, F1-score and Support**"
   ]
  },
  {
   "cell_type": "code",
   "execution_count": 168,
   "metadata": {},
   "outputs": [
    {
     "name": "stdout",
     "output_type": "stream",
     "text": [
      "===== logreg_m20 =====\n",
      "              precision    recall  f1-score   support\n",
      "\n",
      "           0       0.97      0.72      0.83     86542\n",
      "           1       0.21      0.78      0.33      8034\n",
      "\n",
      "    accuracy                           0.73     94576\n",
      "   macro avg       0.59      0.75      0.58     94576\n",
      "weighted avg       0.91      0.73      0.79     94576\n",
      "\n"
     ]
    }
   ],
   "source": [
    "# 1st model\n",
    "print('===== logreg_m20 =====')\n",
    "computeClassificationReport(y_test, logreg_m20.predict(X_test[rfe_20.get_feature_names_out()]))"
   ]
  },
  {
   "cell_type": "code",
   "execution_count": 169,
   "metadata": {},
   "outputs": [
    {
     "name": "stdout",
     "output_type": "stream",
     "text": [
      "\n",
      "===== logreg_m25 =====\n",
      "              precision    recall  f1-score   support\n",
      "\n",
      "           0       0.97      0.75      0.85     86542\n",
      "           1       0.22      0.77      0.34      8034\n",
      "\n",
      "    accuracy                           0.75     94576\n",
      "   macro avg       0.60      0.76      0.59     94576\n",
      "weighted avg       0.91      0.75      0.80     94576\n",
      "\n"
     ]
    }
   ],
   "source": [
    "# 2nd model\n",
    "print('\\n===== logreg_m25 =====')\n",
    "computeClassificationReport(y_test, logreg_m25.predict(X_test[rfe_25.get_feature_names_out()]))"
   ]
  },
  {
   "cell_type": "code",
   "execution_count": 170,
   "metadata": {},
   "outputs": [
    {
     "name": "stdout",
     "output_type": "stream",
     "text": [
      "\n",
      "===== logreg_m21 =====\n",
      "              precision    recall  f1-score   support\n",
      "\n",
      "           0       0.97      0.74      0.84     86542\n",
      "           1       0.22      0.77      0.34      8034\n",
      "\n",
      "    accuracy                           0.74     94576\n",
      "   macro avg       0.59      0.75      0.59     94576\n",
      "weighted avg       0.91      0.74      0.80     94576\n",
      "\n"
     ]
    }
   ],
   "source": [
    "# 3rd model\n",
    "print('\\n===== logreg_m21 =====')\n",
    "computeClassificationReport(y_test, logreg_m21.predict(X_test[rfe_21.get_feature_names_out()]))"
   ]
  },
  {
   "cell_type": "markdown",
   "metadata": {},
   "source": [
    "Interpretation:\n",
    "- For `all models`, the weighted avg of precision and recall are good. The f1-score is also `very good` (around 0.8), which shows that the model performs well."
   ]
  },
  {
   "cell_type": "markdown",
   "metadata": {},
   "source": [
    "**1.4 c) ROC Curve**\n",
    "- Receiver operating characteristic (ROC) curve\n",
    "- The dotted line represents the ROC curve of a purely random classifier\n",
    "- A good classifier stays as far away from that line as possible (toward the top-left corner)."
   ]
  },
  {
   "cell_type": "code",
   "execution_count": 178,
   "metadata": {},
   "outputs": [
    {
     "name": "stdout",
     "output_type": "stream",
     "text": [
      "===== logreg_m20 =====\n"
     ]
    },
    {
     "data": {
      "image/png": "[encoded data removed]",
      "text/plain": [
       "<Figure size 432x288 with 1 Axes>"
      ]
     },
     "metadata": {
      "needs_background": "light"
     },
     "output_type": "display_data"
    },
    {
     "name": "stdout",
     "output_type": "stream",
     "text": [
      "\n",
      "===== logreg_m25 =====\n"
     ]
    },
    {
     "data": {
      "image/png": "[encoded data removed]",
      "text/plain": [
       "<Figure size 432x288 with 1 Axes>"
      ]
     },
     "metadata": {
      "needs_background": "light"
     },
     "output_type": "display_data"
    },
    {
     "name": "stdout",
     "output_type": "stream",
     "text": [
      "\n",
      "===== logreg_m21 =====\n"
     ]
    },
    {
     "data": {
      "image/png": "[encoded data removed]",
      "text/plain": [
       "<Figure size 432x288 with 1 Axes>"
      ]
     },
     "metadata": {
      "needs_background": "light"
     },
     "output_type": "display_data"
    }
   ],
   "source": [
    "# 1st model\n",
    "print('===== logreg_m20 =====')\n",
    "computeROCCurve(logreg_m20, X_test[rfe_20.get_feature_names_out()], y_test)\n",
    "# 2nd model\n",
    "print('\\n===== logreg_m25 =====')\n",
    "computeROCCurve(logreg_m25, X_test[rfe_25.get_feature_names_out()], y_test)\n",
    "# 3rd model\n",
    "print('\\n===== logreg_m21 =====')\n",
    "computeROCCurve(logreg_m21, X_test[rfe_21.get_feature_names_out()], y_test)"
   ]
  },
  {
   "cell_type": "markdown",
   "metadata": {},
   "source": [
    "Interpretation:\n",
    "- The ROC score is quite good (~0.75), which indicates that all the 3 models are good classifier for the dataset\n",
    "- The best ROC score belongs to logreg_m25, which contains 25 features, but 4 of them have statistically insignificant variables\n",
    "- The model logreg_m21 has a ROC score of 0.75 which is almost the same to that of logreg_25, even though it has less variables.\n",
    "- Taking the model complexity into account, `logreg_m21` is the better model of the 3"
   ]
  },
  {
   "cell_type": "markdown",
   "metadata": {},
   "source": [
    "#### 1.4 Logistic Regression Conclusion"
   ]
  },
  {
   "cell_type": "markdown",
   "metadata": {},
   "source": [
    "**1.4 a) The logistic regression model, `logreg_m21` is the best model!**\n",
    "- High accuracy performance on test dataset (74.98%) with relatively lesser number of features (21) compared to the other 2 models (logreg_20 & log_reg_25)\n",
    "- Very good f1-score of 0.8 (similar to the other 2 models)\n",
    "- Good ROC score of 0.75 (similar to the other 2 models)\n",
    "\n",
    "<br>\n",
    "\n",
    "**1.4 b) NOTE: It can be observed that these 3 models only slightly differ in their performance.**\n",
    "- This is because we did Recursive Feature Elimination from 50 features to 20/21/25 features\n",
    "- So what we did here was to further fine-tune and determine the optimal number of features given our hardward constraints (no GPU)\n",
    "\n",
    "<br>\n",
    "\n",
    "**1.4 c) Important Features:**"
   ]
  },
  {
   "cell_type": "code",
   "execution_count": 179,
   "metadata": {},
   "outputs": [
    {
     "name": "stdout",
     "output_type": "stream",
     "text": [
      "['AlcoholDrinking_Yes' 'Stroke_No' 'Stroke_Yes' 'Sex_Male'\n",
      " 'AgeCategory_18-24' 'AgeCategory_25-29' 'AgeCategory_30-34'\n",
      " 'AgeCategory_35-39' 'AgeCategory_40-44' 'AgeCategory_45-49'\n",
      " 'AgeCategory_60-64' 'AgeCategory_65-69' 'AgeCategory_70-74'\n",
      " 'AgeCategory_75-79' 'AgeCategory_80 or older' 'Race_Asian' 'Diabetic_Yes'\n",
      " 'GenHealth_Excellent' 'GenHealth_Fair' 'GenHealth_Poor'\n",
      " 'GenHealth_Very good']\n"
     ]
    }
   ],
   "source": [
    "print(rfe_21.get_feature_names_out())"
   ]
  },
  {
   "cell_type": "markdown",
   "metadata": {},
   "source": [
    "The 6 important features are:\n",
    "- `AlcoholDrinking`\n",
    "- `Stroke`\n",
    "- `AgeCategory`\n",
    "- `Race`\n",
    "- `Diabetic`\n",
    "- `GenHealth`"
   ]
  },
  {
   "cell_type": "markdown",
   "metadata": {},
   "source": [
    "**1.4 d) How can individuals use this model?**\n",
    "\n",
    "**Individuals can user the following 6 questions by themselves:**\n",
    "\n",
    "- `AlcoholDrinking` -> Have more than 7 drinks per week?\n",
    "  - True/False\n",
    "- `Stroke` -> (Ever told) (you had) a stroke?\n",
    "  - True/False\n",
    "- `AgeCategory` -> What is your age range?\n",
    "  - 13 unique levels age category\n",
    "  - '18-24'\n",
    "  - '25-29'\n",
    "  - '30-34'\n",
    "  - '35-39'\n",
    "  - '40-44'\n",
    "  - '45-49'\n",
    "  - '50-54'\n",
    "  - '55-59'\n",
    "  - '60-64'\n",
    "  - '65-69'\n",
    "  - '70-74'\n",
    "  - '75-79'\n",
    "  - '80 or older'\n",
    "- `Race` -> Imputed race/ethnicity value?\n",
    "  - 6 unique different races\n",
    "  - 'Race_American Indian/Alaskan Native'\n",
    "  - 'Race_Asian'\n",
    "  - 'Race_Black'\n",
    "  - 'Race_Hispanic'\n",
    "  - 'Race_Other'\n",
    "  - 'Race_White'\n",
    "- `Diabetic` -> (Ever told) (you had) diabetes?\n",
    "  - 'Diabetic_No'\n",
    "  - 'Diabetic_No, borderline diabetes'\n",
    "  - 'Diabetic_Yes'\n",
    "  - 'Diabetic_Yes (during pregnancy)'\n",
    "- `GenHealth` -> Would you say that in general your health is...\n",
    "  - 'GenHealth_Excellent'\n",
    "  - 'GenHealth_Very good'\n",
    "  - 'GenHealth_Good'\n",
    "  - 'GenHealth_Fair'\n",
    "  - 'GenHealth_Poor'"
   ]
  },
  {
   "cell_type": "code",
   "execution_count": 211,
   "metadata": {},
   "outputs": [
    {
     "name": "stdout",
     "output_type": "stream",
     "text": [
      "DANGER! You will have a heart attack soon!\n"
     ]
    }
   ],
   "source": [
    "# asumming this this a individual's answers (after OneHotEncoding)\n",
    "userAnswers = pd.DataFrame(X_train.loc[1, rfe_21.get_feature_names_out()]).T\n",
    "\n",
    "userResult = \"DANGER! You will have a heart attack soon!\" if logreg_m21.predict(userAnswers)[0] else \"You are safe :)\"\n",
    "\n",
    "print(userResult)\n"
   ]
  },
  {
   "cell_type": "markdown",
   "metadata": {},
   "source": [
    "**1.4 e) Assumptions Made**\n",
    "- Individuals answer the 6 questions truthfully and correctly\n",
    "- Independence of errors\n",
    "- Absence of multicollinearity\n",
    "- Lack of strongly influential outliers."
   ]
  },
  {
   "cell_type": "markdown",
   "metadata": {},
   "source": [
    "#### 1.5 Export regression model (logreg_m21)"
   ]
  },
  {
   "cell_type": "markdown",
   "metadata": {},
   "source": [
    "**1.5 a) Export**"
   ]
  },
  {
   "cell_type": "code",
   "execution_count": 215,
   "metadata": {},
   "outputs": [
    {
     "data": {
      "text/plain": [
       "['models/stage1_logreg_21.sav']"
      ]
     },
     "execution_count": 215,
     "metadata": {},
     "output_type": "execute_result"
    }
   ],
   "source": [
    "# Save Model Using joblib\n",
    "import joblib\n",
    "\n",
    "# save the models to disk\n",
    "filename = 'models/stage1_logreg_rfe_21.sav'\n",
    "joblib.dump(rfe_21, filename)\n",
    "\n",
    "filename = 'models/stage1_logreg_21.sav'\n",
    "joblib.dump(logreg_m21, filename)"
   ]
  },
  {
   "cell_type": "markdown",
   "metadata": {},
   "source": [
    "**1.5 b) How to Import:**"
   ]
  },
  {
   "cell_type": "code",
   "execution_count": 217,
   "metadata": {},
   "outputs": [
    {
     "name": "stdout",
     "output_type": "stream",
     "text": [
      "0.7424399424801218\n"
     ]
    }
   ],
   "source": [
    "# some time later...\n",
    " \n",
    "# load the model from disk\n",
    "loaded_model_rfe_21 = joblib.load('models/stage1_logreg_rfe_21.sav')\n",
    "loaded_model_logreg_21 = joblib.load('models/stage1_logreg_21.sav')\n",
    "result = loaded_model_logreg_21.score(X_test[loaded_model_rfe_21.get_feature_names_out()], y_test)\n",
    "print(result)"
   ]
  },
  {
   "cell_type": "markdown",
   "metadata": {},
   "source": [
    "<hr>\n",
    "\n",
    "### At risk? On To Stage 2! 🚴🏻‍♀️🚴🏻"
   ]
  },
  {
   "cell_type": "markdown",
   "metadata": {},
   "source": []
  }
 ],
 "metadata": {
  "kernelspec": {
   "display_name": "Python 3.9.6 64-bit",
   "language": "python",
   "name": "python3"
  },
  "language_info": {
   "codemirror_mode": {
    "name": "ipython",
    "version": 3
   },
   "file_extension": ".py",
   "mimetype": "text/x-python",
   "name": "python",
   "nbconvert_exporter": "python",
   "pygments_lexer": "ipython3",
   "version": "3.9.6"
  },
  "orig_nbformat": 4,
  "vscode": {
   "interpreter": {
    "hash": "81794d4967e6c3204c66dcd87b604927b115b27c00565d3d43f05ba2f3a2cb0d"
   }
  }
 },
 "nbformat": 4,
 "nbformat_minor": 2
}
