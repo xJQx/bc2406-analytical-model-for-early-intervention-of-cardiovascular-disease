{
 "cells": [
  {
   "cell_type": "markdown",
   "metadata": {},
   "source": [
    "# Stage 1 - Individual Empowerment 👨🏻‍🎓\n",
    "Analytical Model to empower individuals to monitor their cardiovascular health at home\n",
    "\n",
    "<br>\n",
    "\n",
    "**Goal:**\n",
    "- obtain important features (personal) for predicting heart attack risk\n",
    "- the best model that automatically predict heart attack risk based on the important features (>80% accuracy rate) \n",
    "\n",
    "**Dataset:**\n",
    "- heart_pki_2020_encoded.csv\n",
    "\n",
    "**Models:**\n",
    "1. Logistic Regression\n",
    "2. Gradient Boosting Classification\n",
    "\n",
    "**Logisitic Regression PipeLine:**\n",
    "1. `Train-test split` -> `SMOTE` (balancing 'HeartDisease' class)\n",
    "2. Train on train dataset  -> `RFE` (Recursive Feature Elimination, i.e. Backwards Elimination)\n",
    "3. Final model `evaluation` with test dataset\n",
    "\n",
    "**Gradient Boosting Classification PipeLine:**\n",
    "1. `Train-test split` -> `SMOTE` (balancing 'HeartDisease' class)\n",
    "2. Train on train dataset -> `hypertune parameter` 'learning_rate' and 'n_estimator' -> `Evaluate` each model's accuracy\n",
    "3. Select model with best accuracy and analyse it with the various metrics\n",
    "\n",
    "<br>\n",
    "\n",
    "<img src=\"https://scikit-learn.org/stable/_images/grid_search_workflow.png\" alt=\"image\" width=\"750\" />\n",
    "\n",
    "<br>\n",
    "<hr>\n",
    "\n"
   ]
  },
  {
   "cell_type": "markdown",
   "metadata": {},
   "source": [
    "## 1. Pre-modelling preparations\n",
    "\n",
    "- Install dependencies\n",
    "- Import libraries and dataset\n",
    "- Train-test split + SMOTE\n",
    "\n",
    "#### 1.1 Install dependencies, import libraries and dataset"
   ]
  },
  {
   "cell_type": "code",
   "execution_count": 118,
   "metadata": {},
   "outputs": [],
   "source": [
    "# install dependencies\n",
    "# Run the following code in your terminal if you don't have the dependecy installed:\n",
    "    # pip install -U imbalanced-learn --user\n",
    "    # pip install statsmodels\n",
    "\n",
    "# Or run in notebook:    \n",
    "# %pip install -U imbalanced-learn \n",
    "# %pip install statsmodels"
   ]
  },
  {
   "cell_type": "code",
   "execution_count": 1,
   "metadata": {},
   "outputs": [],
   "source": [
    "# import basic libraries\n",
    "import pandas as pd\n",
    "import numpy as np\n",
    "import seaborn as sb\n",
    "import matplotlib.pyplot as plt\n",
    "\n",
    "# model-related libraries\n",
    "from sklearn import preprocessing\n",
    "from sklearn.linear_model import LogisticRegression\n",
    "from sklearn.ensemble import GradientBoostingClassifier\n",
    "from sklearn.model_selection import train_test_split\n",
    "from sklearn import metrics\n"
   ]
  },
  {
   "cell_type": "code",
   "execution_count": 2,
   "metadata": {},
   "outputs": [
    {
     "data": {
      "text/html": [
       "<div>\n",
       "<style scoped>\n",
       "    .dataframe tbody tr th:only-of-type {\n",
       "        vertical-align: middle;\n",
       "    }\n",
       "\n",
       "    .dataframe tbody tr th {\n",
       "        vertical-align: top;\n",
       "    }\n",
       "\n",
       "    .dataframe thead th {\n",
       "        text-align: right;\n",
       "    }\n",
       "</style>\n",
       "<table border=\"1\" class=\"dataframe\">\n",
       "  <thead>\n",
       "    <tr style=\"text-align: right;\">\n",
       "      <th></th>\n",
       "      <th>HeartDisease</th>\n",
       "      <th>BMI</th>\n",
       "      <th>PhysicalHealth</th>\n",
       "      <th>MentalHealth</th>\n",
       "      <th>SleepTime</th>\n",
       "      <th>Smoking_No</th>\n",
       "      <th>Smoking_Yes</th>\n",
       "      <th>AlcoholDrinking_No</th>\n",
       "      <th>AlcoholDrinking_Yes</th>\n",
       "      <th>Stroke_No</th>\n",
       "      <th>...</th>\n",
       "      <th>GenHealth_Fair</th>\n",
       "      <th>GenHealth_Good</th>\n",
       "      <th>GenHealth_Poor</th>\n",
       "      <th>GenHealth_Very good</th>\n",
       "      <th>Asthma_No</th>\n",
       "      <th>Asthma_Yes</th>\n",
       "      <th>KidneyDisease_No</th>\n",
       "      <th>KidneyDisease_Yes</th>\n",
       "      <th>SkinCancer_No</th>\n",
       "      <th>SkinCancer_Yes</th>\n",
       "    </tr>\n",
       "  </thead>\n",
       "  <tbody>\n",
       "    <tr>\n",
       "      <th>0</th>\n",
       "      <td>0</td>\n",
       "      <td>16.60</td>\n",
       "      <td>3.0</td>\n",
       "      <td>30.0</td>\n",
       "      <td>5.0</td>\n",
       "      <td>0.0</td>\n",
       "      <td>1.0</td>\n",
       "      <td>1.0</td>\n",
       "      <td>0.0</td>\n",
       "      <td>1.0</td>\n",
       "      <td>...</td>\n",
       "      <td>0.0</td>\n",
       "      <td>0.0</td>\n",
       "      <td>0.0</td>\n",
       "      <td>1.0</td>\n",
       "      <td>0.0</td>\n",
       "      <td>1.0</td>\n",
       "      <td>1.0</td>\n",
       "      <td>0.0</td>\n",
       "      <td>0.0</td>\n",
       "      <td>1.0</td>\n",
       "    </tr>\n",
       "    <tr>\n",
       "      <th>1</th>\n",
       "      <td>0</td>\n",
       "      <td>20.34</td>\n",
       "      <td>0.0</td>\n",
       "      <td>0.0</td>\n",
       "      <td>7.0</td>\n",
       "      <td>1.0</td>\n",
       "      <td>0.0</td>\n",
       "      <td>1.0</td>\n",
       "      <td>0.0</td>\n",
       "      <td>0.0</td>\n",
       "      <td>...</td>\n",
       "      <td>0.0</td>\n",
       "      <td>0.0</td>\n",
       "      <td>0.0</td>\n",
       "      <td>1.0</td>\n",
       "      <td>1.0</td>\n",
       "      <td>0.0</td>\n",
       "      <td>1.0</td>\n",
       "      <td>0.0</td>\n",
       "      <td>1.0</td>\n",
       "      <td>0.0</td>\n",
       "    </tr>\n",
       "    <tr>\n",
       "      <th>2</th>\n",
       "      <td>0</td>\n",
       "      <td>26.58</td>\n",
       "      <td>20.0</td>\n",
       "      <td>30.0</td>\n",
       "      <td>8.0</td>\n",
       "      <td>0.0</td>\n",
       "      <td>1.0</td>\n",
       "      <td>1.0</td>\n",
       "      <td>0.0</td>\n",
       "      <td>1.0</td>\n",
       "      <td>...</td>\n",
       "      <td>1.0</td>\n",
       "      <td>0.0</td>\n",
       "      <td>0.0</td>\n",
       "      <td>0.0</td>\n",
       "      <td>0.0</td>\n",
       "      <td>1.0</td>\n",
       "      <td>1.0</td>\n",
       "      <td>0.0</td>\n",
       "      <td>1.0</td>\n",
       "      <td>0.0</td>\n",
       "    </tr>\n",
       "    <tr>\n",
       "      <th>3</th>\n",
       "      <td>0</td>\n",
       "      <td>24.21</td>\n",
       "      <td>0.0</td>\n",
       "      <td>0.0</td>\n",
       "      <td>6.0</td>\n",
       "      <td>1.0</td>\n",
       "      <td>0.0</td>\n",
       "      <td>1.0</td>\n",
       "      <td>0.0</td>\n",
       "      <td>1.0</td>\n",
       "      <td>...</td>\n",
       "      <td>0.0</td>\n",
       "      <td>1.0</td>\n",
       "      <td>0.0</td>\n",
       "      <td>0.0</td>\n",
       "      <td>1.0</td>\n",
       "      <td>0.0</td>\n",
       "      <td>1.0</td>\n",
       "      <td>0.0</td>\n",
       "      <td>0.0</td>\n",
       "      <td>1.0</td>\n",
       "    </tr>\n",
       "    <tr>\n",
       "      <th>4</th>\n",
       "      <td>0</td>\n",
       "      <td>23.71</td>\n",
       "      <td>28.0</td>\n",
       "      <td>0.0</td>\n",
       "      <td>8.0</td>\n",
       "      <td>1.0</td>\n",
       "      <td>0.0</td>\n",
       "      <td>1.0</td>\n",
       "      <td>0.0</td>\n",
       "      <td>1.0</td>\n",
       "      <td>...</td>\n",
       "      <td>0.0</td>\n",
       "      <td>0.0</td>\n",
       "      <td>0.0</td>\n",
       "      <td>1.0</td>\n",
       "      <td>1.0</td>\n",
       "      <td>0.0</td>\n",
       "      <td>1.0</td>\n",
       "      <td>0.0</td>\n",
       "      <td>1.0</td>\n",
       "      <td>0.0</td>\n",
       "    </tr>\n",
       "    <tr>\n",
       "      <th>...</th>\n",
       "      <td>...</td>\n",
       "      <td>...</td>\n",
       "      <td>...</td>\n",
       "      <td>...</td>\n",
       "      <td>...</td>\n",
       "      <td>...</td>\n",
       "      <td>...</td>\n",
       "      <td>...</td>\n",
       "      <td>...</td>\n",
       "      <td>...</td>\n",
       "      <td>...</td>\n",
       "      <td>...</td>\n",
       "      <td>...</td>\n",
       "      <td>...</td>\n",
       "      <td>...</td>\n",
       "      <td>...</td>\n",
       "      <td>...</td>\n",
       "      <td>...</td>\n",
       "      <td>...</td>\n",
       "      <td>...</td>\n",
       "      <td>...</td>\n",
       "    </tr>\n",
       "    <tr>\n",
       "      <th>315247</th>\n",
       "      <td>0</td>\n",
       "      <td>22.22</td>\n",
       "      <td>0.0</td>\n",
       "      <td>0.0</td>\n",
       "      <td>8.0</td>\n",
       "      <td>1.0</td>\n",
       "      <td>0.0</td>\n",
       "      <td>1.0</td>\n",
       "      <td>0.0</td>\n",
       "      <td>1.0</td>\n",
       "      <td>...</td>\n",
       "      <td>0.0</td>\n",
       "      <td>0.0</td>\n",
       "      <td>0.0</td>\n",
       "      <td>0.0</td>\n",
       "      <td>1.0</td>\n",
       "      <td>0.0</td>\n",
       "      <td>1.0</td>\n",
       "      <td>0.0</td>\n",
       "      <td>1.0</td>\n",
       "      <td>0.0</td>\n",
       "    </tr>\n",
       "    <tr>\n",
       "      <th>315248</th>\n",
       "      <td>1</td>\n",
       "      <td>27.41</td>\n",
       "      <td>7.0</td>\n",
       "      <td>0.0</td>\n",
       "      <td>6.0</td>\n",
       "      <td>0.0</td>\n",
       "      <td>1.0</td>\n",
       "      <td>1.0</td>\n",
       "      <td>0.0</td>\n",
       "      <td>1.0</td>\n",
       "      <td>...</td>\n",
       "      <td>1.0</td>\n",
       "      <td>0.0</td>\n",
       "      <td>0.0</td>\n",
       "      <td>0.0</td>\n",
       "      <td>0.0</td>\n",
       "      <td>1.0</td>\n",
       "      <td>1.0</td>\n",
       "      <td>0.0</td>\n",
       "      <td>1.0</td>\n",
       "      <td>0.0</td>\n",
       "    </tr>\n",
       "    <tr>\n",
       "      <th>315249</th>\n",
       "      <td>0</td>\n",
       "      <td>29.84</td>\n",
       "      <td>0.0</td>\n",
       "      <td>0.0</td>\n",
       "      <td>5.0</td>\n",
       "      <td>0.0</td>\n",
       "      <td>1.0</td>\n",
       "      <td>1.0</td>\n",
       "      <td>0.0</td>\n",
       "      <td>1.0</td>\n",
       "      <td>...</td>\n",
       "      <td>0.0</td>\n",
       "      <td>0.0</td>\n",
       "      <td>0.0</td>\n",
       "      <td>1.0</td>\n",
       "      <td>0.0</td>\n",
       "      <td>1.0</td>\n",
       "      <td>1.0</td>\n",
       "      <td>0.0</td>\n",
       "      <td>1.0</td>\n",
       "      <td>0.0</td>\n",
       "    </tr>\n",
       "    <tr>\n",
       "      <th>315250</th>\n",
       "      <td>0</td>\n",
       "      <td>24.24</td>\n",
       "      <td>0.0</td>\n",
       "      <td>0.0</td>\n",
       "      <td>6.0</td>\n",
       "      <td>1.0</td>\n",
       "      <td>0.0</td>\n",
       "      <td>1.0</td>\n",
       "      <td>0.0</td>\n",
       "      <td>1.0</td>\n",
       "      <td>...</td>\n",
       "      <td>0.0</td>\n",
       "      <td>1.0</td>\n",
       "      <td>0.0</td>\n",
       "      <td>0.0</td>\n",
       "      <td>1.0</td>\n",
       "      <td>0.0</td>\n",
       "      <td>1.0</td>\n",
       "      <td>0.0</td>\n",
       "      <td>1.0</td>\n",
       "      <td>0.0</td>\n",
       "    </tr>\n",
       "    <tr>\n",
       "      <th>315251</th>\n",
       "      <td>0</td>\n",
       "      <td>46.56</td>\n",
       "      <td>0.0</td>\n",
       "      <td>0.0</td>\n",
       "      <td>8.0</td>\n",
       "      <td>1.0</td>\n",
       "      <td>0.0</td>\n",
       "      <td>1.0</td>\n",
       "      <td>0.0</td>\n",
       "      <td>1.0</td>\n",
       "      <td>...</td>\n",
       "      <td>0.0</td>\n",
       "      <td>1.0</td>\n",
       "      <td>0.0</td>\n",
       "      <td>0.0</td>\n",
       "      <td>1.0</td>\n",
       "      <td>0.0</td>\n",
       "      <td>1.0</td>\n",
       "      <td>0.0</td>\n",
       "      <td>1.0</td>\n",
       "      <td>0.0</td>\n",
       "    </tr>\n",
       "  </tbody>\n",
       "</table>\n",
       "<p>315252 rows × 51 columns</p>\n",
       "</div>"
      ],
      "text/plain": [
       "        HeartDisease    BMI  PhysicalHealth  MentalHealth  SleepTime  \\\n",
       "0                  0  16.60             3.0          30.0        5.0   \n",
       "1                  0  20.34             0.0           0.0        7.0   \n",
       "2                  0  26.58            20.0          30.0        8.0   \n",
       "3                  0  24.21             0.0           0.0        6.0   \n",
       "4                  0  23.71            28.0           0.0        8.0   \n",
       "...              ...    ...             ...           ...        ...   \n",
       "315247             0  22.22             0.0           0.0        8.0   \n",
       "315248             1  27.41             7.0           0.0        6.0   \n",
       "315249             0  29.84             0.0           0.0        5.0   \n",
       "315250             0  24.24             0.0           0.0        6.0   \n",
       "315251             0  46.56             0.0           0.0        8.0   \n",
       "\n",
       "        Smoking_No  Smoking_Yes  AlcoholDrinking_No  AlcoholDrinking_Yes  \\\n",
       "0              0.0          1.0                 1.0                  0.0   \n",
       "1              1.0          0.0                 1.0                  0.0   \n",
       "2              0.0          1.0                 1.0                  0.0   \n",
       "3              1.0          0.0                 1.0                  0.0   \n",
       "4              1.0          0.0                 1.0                  0.0   \n",
       "...            ...          ...                 ...                  ...   \n",
       "315247         1.0          0.0                 1.0                  0.0   \n",
       "315248         0.0          1.0                 1.0                  0.0   \n",
       "315249         0.0          1.0                 1.0                  0.0   \n",
       "315250         1.0          0.0                 1.0                  0.0   \n",
       "315251         1.0          0.0                 1.0                  0.0   \n",
       "\n",
       "        Stroke_No  ...  GenHealth_Fair  GenHealth_Good  GenHealth_Poor  \\\n",
       "0             1.0  ...             0.0             0.0             0.0   \n",
       "1             0.0  ...             0.0             0.0             0.0   \n",
       "2             1.0  ...             1.0             0.0             0.0   \n",
       "3             1.0  ...             0.0             1.0             0.0   \n",
       "4             1.0  ...             0.0             0.0             0.0   \n",
       "...           ...  ...             ...             ...             ...   \n",
       "315247        1.0  ...             0.0             0.0             0.0   \n",
       "315248        1.0  ...             1.0             0.0             0.0   \n",
       "315249        1.0  ...             0.0             0.0             0.0   \n",
       "315250        1.0  ...             0.0             1.0             0.0   \n",
       "315251        1.0  ...             0.0             1.0             0.0   \n",
       "\n",
       "        GenHealth_Very good  Asthma_No  Asthma_Yes  KidneyDisease_No  \\\n",
       "0                       1.0        0.0         1.0               1.0   \n",
       "1                       1.0        1.0         0.0               1.0   \n",
       "2                       0.0        0.0         1.0               1.0   \n",
       "3                       0.0        1.0         0.0               1.0   \n",
       "4                       1.0        1.0         0.0               1.0   \n",
       "...                     ...        ...         ...               ...   \n",
       "315247                  0.0        1.0         0.0               1.0   \n",
       "315248                  0.0        0.0         1.0               1.0   \n",
       "315249                  1.0        0.0         1.0               1.0   \n",
       "315250                  0.0        1.0         0.0               1.0   \n",
       "315251                  0.0        1.0         0.0               1.0   \n",
       "\n",
       "        KidneyDisease_Yes  SkinCancer_No  SkinCancer_Yes  \n",
       "0                     0.0            0.0             1.0  \n",
       "1                     0.0            1.0             0.0  \n",
       "2                     0.0            1.0             0.0  \n",
       "3                     0.0            0.0             1.0  \n",
       "4                     0.0            1.0             0.0  \n",
       "...                   ...            ...             ...  \n",
       "315247                0.0            1.0             0.0  \n",
       "315248                0.0            1.0             0.0  \n",
       "315249                0.0            1.0             0.0  \n",
       "315250                0.0            1.0             0.0  \n",
       "315251                0.0            1.0             0.0  \n",
       "\n",
       "[315252 rows x 51 columns]"
      ]
     },
     "execution_count": 2,
     "metadata": {},
     "output_type": "execute_result"
    }
   ],
   "source": [
    "# import personal_key_indicator dataset\n",
    "# note: dataset is already OneHotEncoded and Integer Encoded in 'data-cleaning-preprocessing.ipynb'\n",
    "pki_df = pd.read_csv('datasets/heart_pki_2020_encoded.csv')\n",
    "pki_df"
   ]
  },
  {
   "cell_type": "code",
   "execution_count": 3,
   "metadata": {},
   "outputs": [
    {
     "data": {
      "text/plain": [
       "array(['HeartDisease', 'BMI', 'PhysicalHealth', 'MentalHealth',\n",
       "       'SleepTime', 'Smoking_No', 'Smoking_Yes', 'AlcoholDrinking_No',\n",
       "       'AlcoholDrinking_Yes', 'Stroke_No', 'Stroke_Yes', 'DiffWalking_No',\n",
       "       'DiffWalking_Yes', 'Sex_Female', 'Sex_Male', 'AgeCategory_18-24',\n",
       "       'AgeCategory_25-29', 'AgeCategory_30-34', 'AgeCategory_35-39',\n",
       "       'AgeCategory_40-44', 'AgeCategory_45-49', 'AgeCategory_50-54',\n",
       "       'AgeCategory_55-59', 'AgeCategory_60-64', 'AgeCategory_65-69',\n",
       "       'AgeCategory_70-74', 'AgeCategory_75-79',\n",
       "       'AgeCategory_80 or older', 'Race_American Indian/Alaskan Native',\n",
       "       'Race_Asian', 'Race_Black', 'Race_Hispanic', 'Race_Other',\n",
       "       'Race_White', 'Diabetic_No', 'Diabetic_No, borderline diabetes',\n",
       "       'Diabetic_Yes', 'Diabetic_Yes (during pregnancy)',\n",
       "       'PhysicalActivity_No', 'PhysicalActivity_Yes',\n",
       "       'GenHealth_Excellent', 'GenHealth_Fair', 'GenHealth_Good',\n",
       "       'GenHealth_Poor', 'GenHealth_Very good', 'Asthma_No', 'Asthma_Yes',\n",
       "       'KidneyDisease_No', 'KidneyDisease_Yes', 'SkinCancer_No',\n",
       "       'SkinCancer_Yes'], dtype=object)"
      ]
     },
     "execution_count": 3,
     "metadata": {},
     "output_type": "execute_result"
    }
   ],
   "source": [
    "pki_df.columns.values"
   ]
  },
  {
   "cell_type": "markdown",
   "metadata": {},
   "source": [
    "#### 1.2 Train-Test split + SMOTE (Synthetic Minority Oversampling Technique)\n",
    "\n",
    "**1.2 a) Train-Test spliting of dataset**"
   ]
  },
  {
   "cell_type": "code",
   "execution_count": 4,
   "metadata": {},
   "outputs": [],
   "source": [
    "X = pki_df.loc[:, pki_df.columns != 'HeartDisease']\n",
    "y = pki_df.loc[:, pki_df.columns == 'HeartDisease']\n",
    "\n",
    "X_train, X_test, y_train, y_test = train_test_split(X, y, test_size=0.3, random_state=0)"
   ]
  },
  {
   "cell_type": "markdown",
   "metadata": {},
   "source": [
    "**1.2 b) The 'HeartDisease' is unbalanced, so we need to resample it (using SMOTE on trainset)**\n",
    "\n",
    "Note: only for trainset for RFE (Recursive Feature Elimination)"
   ]
  },
  {
   "cell_type": "code",
   "execution_count": 5,
   "metadata": {},
   "outputs": [
    {
     "name": "stdout",
     "output_type": "stream",
     "text": [
      "Proportion of HeartDisease == 0: 0.9156198850443454\n",
      "Proportion of HeartDisease == 1: 0.08438011495565452\n"
     ]
    }
   ],
   "source": [
    "num_of_HD_Yes = len(pki_df[pki_df['HeartDisease'] == 1])\n",
    "num_of_HD_No = len(pki_df[pki_df['HeartDisease'] == 0])\n",
    "num_rows = len(pki_df)\n",
    "\n",
    "print('Proportion of HeartDisease == 0:', num_of_HD_No/num_rows)\n",
    "print('Proportion of HeartDisease == 1:', num_of_HD_Yes/num_rows)"
   ]
  },
  {
   "cell_type": "code",
   "execution_count": 6,
   "metadata": {},
   "outputs": [
    {
     "name": "stdout",
     "output_type": "stream",
     "text": [
      "===== Oversampled data =====\n",
      "Total number of rows: 404218\n",
      "Number of Heart Disease == 0 rows: 202109\n",
      "Number of Heart Disease == 1 rows: 202109\n",
      "Proportion of HeartDisease == 0: 0.5\n",
      "Proportion of HeartDisease == 1: 0.5\n"
     ]
    }
   ],
   "source": [
    "# Oversampling for trainset to fixed imbalanced 'HeartDisease' class\n",
    "\n",
    "from imblearn.over_sampling import SMOTE\n",
    "\n",
    "os = SMOTE(random_state=0)\n",
    "\n",
    "X_train_os, y_train_os = os.fit_resample(X_train, y_train)\n",
    "X_train_os = pd.DataFrame(data = X_train_os, columns = X_train.columns)\n",
    "y_train_os = pd.DataFrame(data = y_train_os, columns = y_train.columns)\n",
    "\n",
    "\n",
    "# check the oversampled data (train)\n",
    "print(\"===== Oversampled data =====\")\n",
    "\n",
    "num_of_HD_Yes = len(y_train_os[y_train_os['HeartDisease'] == 1])\n",
    "num_of_HD_No = len(y_train_os[y_train_os['HeartDisease'] == 0])\n",
    "num_rows = len(X_train_os)\n",
    "\n",
    "print(\"Total number of rows:\", num_rows)\n",
    "print(\"Number of Heart Disease == 0 rows:\", num_of_HD_No)\n",
    "print(\"Number of Heart Disease == 1 rows:\", num_of_HD_Yes)\n",
    "\n",
    "print(\"Proportion of HeartDisease == 0:\", num_of_HD_No/num_rows)\n",
    "print(\"Proportion of HeartDisease == 1:\", num_of_HD_Yes/num_rows)"
   ]
  },
  {
   "cell_type": "code",
   "execution_count": 7,
   "metadata": {},
   "outputs": [
    {
     "data": {
      "text/html": [
       "<div>\n",
       "<style scoped>\n",
       "    .dataframe tbody tr th:only-of-type {\n",
       "        vertical-align: middle;\n",
       "    }\n",
       "\n",
       "    .dataframe tbody tr th {\n",
       "        vertical-align: top;\n",
       "    }\n",
       "\n",
       "    .dataframe thead th {\n",
       "        text-align: right;\n",
       "    }\n",
       "</style>\n",
       "<table border=\"1\" class=\"dataframe\">\n",
       "  <thead>\n",
       "    <tr style=\"text-align: right;\">\n",
       "      <th></th>\n",
       "      <th>BMI</th>\n",
       "      <th>PhysicalHealth</th>\n",
       "      <th>MentalHealth</th>\n",
       "      <th>SleepTime</th>\n",
       "      <th>Smoking_No</th>\n",
       "      <th>Smoking_Yes</th>\n",
       "      <th>AlcoholDrinking_No</th>\n",
       "      <th>AlcoholDrinking_Yes</th>\n",
       "      <th>Stroke_No</th>\n",
       "      <th>Stroke_Yes</th>\n",
       "      <th>...</th>\n",
       "      <th>GenHealth_Fair</th>\n",
       "      <th>GenHealth_Good</th>\n",
       "      <th>GenHealth_Poor</th>\n",
       "      <th>GenHealth_Very good</th>\n",
       "      <th>Asthma_No</th>\n",
       "      <th>Asthma_Yes</th>\n",
       "      <th>KidneyDisease_No</th>\n",
       "      <th>KidneyDisease_Yes</th>\n",
       "      <th>SkinCancer_No</th>\n",
       "      <th>SkinCancer_Yes</th>\n",
       "    </tr>\n",
       "  </thead>\n",
       "  <tbody>\n",
       "    <tr>\n",
       "      <th>18662</th>\n",
       "      <td>32.98</td>\n",
       "      <td>0.0</td>\n",
       "      <td>0.0</td>\n",
       "      <td>7.0</td>\n",
       "      <td>0.0</td>\n",
       "      <td>1.0</td>\n",
       "      <td>1.0</td>\n",
       "      <td>0.0</td>\n",
       "      <td>1.0</td>\n",
       "      <td>0.0</td>\n",
       "      <td>...</td>\n",
       "      <td>0.0</td>\n",
       "      <td>0.0</td>\n",
       "      <td>0.0</td>\n",
       "      <td>1.0</td>\n",
       "      <td>1.0</td>\n",
       "      <td>0.0</td>\n",
       "      <td>1.0</td>\n",
       "      <td>0.0</td>\n",
       "      <td>1.0</td>\n",
       "      <td>0.0</td>\n",
       "    </tr>\n",
       "    <tr>\n",
       "      <th>45050</th>\n",
       "      <td>25.61</td>\n",
       "      <td>0.0</td>\n",
       "      <td>0.0</td>\n",
       "      <td>6.0</td>\n",
       "      <td>0.0</td>\n",
       "      <td>1.0</td>\n",
       "      <td>1.0</td>\n",
       "      <td>0.0</td>\n",
       "      <td>1.0</td>\n",
       "      <td>0.0</td>\n",
       "      <td>...</td>\n",
       "      <td>0.0</td>\n",
       "      <td>0.0</td>\n",
       "      <td>0.0</td>\n",
       "      <td>0.0</td>\n",
       "      <td>1.0</td>\n",
       "      <td>0.0</td>\n",
       "      <td>1.0</td>\n",
       "      <td>0.0</td>\n",
       "      <td>1.0</td>\n",
       "      <td>0.0</td>\n",
       "    </tr>\n",
       "    <tr>\n",
       "      <th>191308</th>\n",
       "      <td>16.24</td>\n",
       "      <td>0.0</td>\n",
       "      <td>0.0</td>\n",
       "      <td>7.0</td>\n",
       "      <td>1.0</td>\n",
       "      <td>0.0</td>\n",
       "      <td>1.0</td>\n",
       "      <td>0.0</td>\n",
       "      <td>1.0</td>\n",
       "      <td>0.0</td>\n",
       "      <td>...</td>\n",
       "      <td>0.0</td>\n",
       "      <td>0.0</td>\n",
       "      <td>0.0</td>\n",
       "      <td>1.0</td>\n",
       "      <td>1.0</td>\n",
       "      <td>0.0</td>\n",
       "      <td>1.0</td>\n",
       "      <td>0.0</td>\n",
       "      <td>1.0</td>\n",
       "      <td>0.0</td>\n",
       "    </tr>\n",
       "    <tr>\n",
       "      <th>105093</th>\n",
       "      <td>18.30</td>\n",
       "      <td>0.0</td>\n",
       "      <td>0.0</td>\n",
       "      <td>9.0</td>\n",
       "      <td>1.0</td>\n",
       "      <td>0.0</td>\n",
       "      <td>1.0</td>\n",
       "      <td>0.0</td>\n",
       "      <td>1.0</td>\n",
       "      <td>0.0</td>\n",
       "      <td>...</td>\n",
       "      <td>0.0</td>\n",
       "      <td>0.0</td>\n",
       "      <td>0.0</td>\n",
       "      <td>0.0</td>\n",
       "      <td>1.0</td>\n",
       "      <td>0.0</td>\n",
       "      <td>1.0</td>\n",
       "      <td>0.0</td>\n",
       "      <td>1.0</td>\n",
       "      <td>0.0</td>\n",
       "    </tr>\n",
       "    <tr>\n",
       "      <th>161942</th>\n",
       "      <td>31.57</td>\n",
       "      <td>5.0</td>\n",
       "      <td>0.0</td>\n",
       "      <td>8.0</td>\n",
       "      <td>0.0</td>\n",
       "      <td>1.0</td>\n",
       "      <td>1.0</td>\n",
       "      <td>0.0</td>\n",
       "      <td>1.0</td>\n",
       "      <td>0.0</td>\n",
       "      <td>...</td>\n",
       "      <td>0.0</td>\n",
       "      <td>0.0</td>\n",
       "      <td>0.0</td>\n",
       "      <td>1.0</td>\n",
       "      <td>1.0</td>\n",
       "      <td>0.0</td>\n",
       "      <td>1.0</td>\n",
       "      <td>0.0</td>\n",
       "      <td>1.0</td>\n",
       "      <td>0.0</td>\n",
       "    </tr>\n",
       "  </tbody>\n",
       "</table>\n",
       "<p>5 rows × 50 columns</p>\n",
       "</div>"
      ],
      "text/plain": [
       "          BMI  PhysicalHealth  MentalHealth  SleepTime  Smoking_No  \\\n",
       "18662   32.98             0.0           0.0        7.0         0.0   \n",
       "45050   25.61             0.0           0.0        6.0         0.0   \n",
       "191308  16.24             0.0           0.0        7.0         1.0   \n",
       "105093  18.30             0.0           0.0        9.0         1.0   \n",
       "161942  31.57             5.0           0.0        8.0         0.0   \n",
       "\n",
       "        Smoking_Yes  AlcoholDrinking_No  AlcoholDrinking_Yes  Stroke_No  \\\n",
       "18662           1.0                 1.0                  0.0        1.0   \n",
       "45050           1.0                 1.0                  0.0        1.0   \n",
       "191308          0.0                 1.0                  0.0        1.0   \n",
       "105093          0.0                 1.0                  0.0        1.0   \n",
       "161942          1.0                 1.0                  0.0        1.0   \n",
       "\n",
       "        Stroke_Yes  ...  GenHealth_Fair  GenHealth_Good  GenHealth_Poor  \\\n",
       "18662          0.0  ...             0.0             0.0             0.0   \n",
       "45050          0.0  ...             0.0             0.0             0.0   \n",
       "191308         0.0  ...             0.0             0.0             0.0   \n",
       "105093         0.0  ...             0.0             0.0             0.0   \n",
       "161942         0.0  ...             0.0             0.0             0.0   \n",
       "\n",
       "        GenHealth_Very good  Asthma_No  Asthma_Yes  KidneyDisease_No  \\\n",
       "18662                   1.0        1.0         0.0               1.0   \n",
       "45050                   0.0        1.0         0.0               1.0   \n",
       "191308                  1.0        1.0         0.0               1.0   \n",
       "105093                  0.0        1.0         0.0               1.0   \n",
       "161942                  1.0        1.0         0.0               1.0   \n",
       "\n",
       "        KidneyDisease_Yes  SkinCancer_No  SkinCancer_Yes  \n",
       "18662                 0.0            1.0             0.0  \n",
       "45050                 0.0            1.0             0.0  \n",
       "191308                0.0            1.0             0.0  \n",
       "105093                0.0            1.0             0.0  \n",
       "161942                0.0            1.0             0.0  \n",
       "\n",
       "[5 rows x 50 columns]"
      ]
     },
     "execution_count": 7,
     "metadata": {},
     "output_type": "execute_result"
    }
   ],
   "source": [
    "X_train.head()"
   ]
  },
  {
   "cell_type": "markdown",
   "metadata": {},
   "source": [
    "<hr>\n",
    "\n",
    "## 2. Logistic Regression\n",
    "\n",
    "**Why logistic regression?**\n",
    "- Depedent variable, `HeartDisease` can be encoded in binary (Yes: 1, No: 1)\n",
    "- Large dataset of 315252 rows\n",
    "\n",
    "\n",
    "**References:**\n",
    "- https://towardsdatascience.com/building-a-logistic-regression-in-python-step-by-step-becd4d56c9c8"
   ]
  },
  {
   "cell_type": "markdown",
   "metadata": {},
   "source": [
    "#### 2.1 Model Building with Recursive Feature Elimination\n",
    "\n",
    "- i.e. `Backwards Elimination` until the number of features desired is reached\n",
    "- https://scikit-learn.org/stable/modules/generated/sklearn.feature_selection.RFE.html\n",
    "- https://www.scikit-yb.org/en/latest/api/model_selection/rfecv.html\n",
    "\n",
    "> Recursive feature elimination.\n",
    "> \n",
    "> Given an external estimator that assigns weights to features (e.g., the coefficients of a linear model), the goal of recursive feature elimination (RFE) is to select features by recursively considering smaller and smaller sets of features. \n",
    "> - Features are ranked by the model’s coef_ or feature_importances_ attributes, \n",
    "> - Recursively eliminating a small number of features (least important) per loop until the **desired number of features to select is eventually reached.**\n",
    "> - Dependencies and collinearity that may exist in the model are eliminate\n",
    "\n",
    "\n",
    "> Backwards Elimation (https://www.simplilearn.com/what-is-backward-elimination-technique-in-machine-learning-article):\n",
    "> - The model includes the initial and all explanatory variables in backward elimination. \n",
    "> - Then, the variable with the highest p-value is removed from the model. \n",
    "> - This process is repeated until all variables in the model have a p-value below a given threshold.\n"
   ]
  },
  {
   "cell_type": "markdown",
   "metadata": {},
   "source": [
    "**2.1 \\*) If have access to multiple GPUs and can wait for hours/days for computation\"**\n",
    "- Due to `hardward and computing power constraints`, we will NOT be running the following code.\n",
    "- Large dataset size & large number of features (50)\n",
    "\n",
    "What the code does:\n",
    "- Creating a matrix of RFECV results (1 feature to 50 features) to get the optimal number of features from 1 to 50\n",
    "- Plot the number of features vs accuracy in a graph"
   ]
  },
  {
   "cell_type": "code",
   "execution_count": 46,
   "metadata": {},
   "outputs": [],
   "source": [
    "# import matplotlib.pyplot as plt\n",
    "# from sklearn.svm import SVC\n",
    "# from sklearn.model_selection import StratifiedKFold\n",
    "# from sklearn.feature_selection import RFECV\n",
    "\n",
    "# # Create the RFE object and compute a cross-validated score.\n",
    "# svc = SVC(kernel=\"linear\")\n",
    "# # The \"accuracy\" scoring shows the proportion of correct classifications\n",
    "\n",
    "# min_features_to_select = 1  # Minimum number of features to consider\n",
    "# rfecv = RFECV(\n",
    "#     estimator = svc,\n",
    "#     step = 1,\n",
    "#     cv = StratifiedKFold(5),\n",
    "#     scoring = \"accuracy\",\n",
    "#     min_features_to_select = min_features_to_select,\n",
    "# )\n",
    "# rfecv.fit(X_train_os, y_train_os.values.ravel())\n",
    "\n",
    "\n",
    "# print(\"Optimal number of features : %d\" % rfecv.n_features_)\n",
    "# print(rfecv.get_feature_names_out())\n",
    "\n",
    "\n",
    "# # Plot number of features VS. cross-validation scores\n",
    "# plt.figure()\n",
    "# plt.xlabel(\"Number of features selected\")\n",
    "# plt.ylabel(\"Cross validation score (accuracy)\")\n",
    "# plt.plot(\n",
    "#     range(min_features_to_select, len(rfecv.grid_scores_) + min_features_to_select),\n",
    "#     rfecv.grid_scores_,\n",
    "# )\n",
    "# plt.show()"
   ]
  },
  {
   "cell_type": "markdown",
   "metadata": {},
   "source": [
    "**2.1 a) 1st Model (logreg_m20 -> top 20 features)**\n",
    "\n",
    "Note: due to no access to GPU, large dataset, and large number of features, we will be conducting RFE to select 20 most important features and branch off from there (+-5 number of features) and compare to find the best model\n"
   ]
  },
  {
   "cell_type": "code",
   "execution_count": 8,
   "metadata": {},
   "outputs": [],
   "source": [
    "from sklearn.feature_selection import RFE\n",
    "from sklearn.linear_model import LogisticRegression\n",
    "import statsmodels.api as sm\n",
    "\n",
    "logreg = LogisticRegression(solver='lbfgs', max_iter=1000, random_state=0)\n",
    "\n",
    "def rfeLogistic(X, y, n_features):\n",
    "    logreg = LogisticRegression(solver='lbfgs', max_iter=1000, random_state=0)\n",
    "\n",
    "    rfe = RFE(\n",
    "        logreg, \n",
    "        n_features_to_select=n_features, \n",
    "        step=1\n",
    "    )\n",
    "    rfe = rfe.fit(X, y.values.ravel())\n",
    "    return rfe\n",
    "\n",
    "# Logit (Logistic Regression) summary with p-values and pseudo R-squared\n",
    "# https://www.statsmodels.org/stable/generated/statsmodels.discrete.discrete_model.Logit.html#statsmodels.discrete.discrete_model.Logit\n",
    "def logitSummary(X, y, rfe):\n",
    "    # top features\n",
    "    pki_df_top_features = rfe.get_feature_names_out()\n",
    "    \n",
    "    # summary with p-values and pseudo R-squared\n",
    "    logit_model = sm.Logit(y, X[pki_df_top_features])\n",
    "    # logit_model_result = logit_model.fit()\n",
    "    logit_model_result = logit_model.fit_regularized()\n",
    "\n",
    "    print(logit_model_result.summary2())\n",
    "\n",
    "    return (logit_model, logit_model_result)\n",
    "\n",
    "def fitLogRegModel(X_train, y_train, X_test, y_test, rfe):\n",
    "    # top features\n",
    "    pki_df_top_features = rfe.get_feature_names_out()\n",
    "\n",
    "    # Logistic Regression\n",
    "    logreg_model = LogisticRegression(solver='lbfgs', max_iter=1000, random_state=0)\n",
    "    logreg_model_result = logreg_model.fit(X_train[pki_df_top_features], y_train.values.ravel())\n",
    "\n",
    "\n",
    "    print('Train Accuracy: {:.2f}'.format(logreg_model.score(X_train[pki_df_top_features], y_train.values.ravel())))\n",
    "    print('Test Accuracy: {:.2f}'.format(logreg_model.score(X_test[pki_df_top_features], y_test.values.ravel())))\n",
    "\n",
    "    return (logreg_model, logreg_model_result);\n",
    "\n"
   ]
  },
  {
   "cell_type": "code",
   "execution_count": 9,
   "metadata": {},
   "outputs": [],
   "source": [
    "# recursive feature elimination\n",
    "rfe_20 = rfeLogistic(X_train_os, y_train_os, 20)"
   ]
  },
  {
   "cell_type": "code",
   "execution_count": 10,
   "metadata": {},
   "outputs": [
    {
     "name": "stdout",
     "output_type": "stream",
     "text": [
      "=== train dataset ===\n",
      "Optimization terminated successfully    (Exit mode 0)\n",
      "            Current function value: 0.48540594841588053\n",
      "            Iterations: 111\n",
      "            Function evaluations: 111\n",
      "            Gradient evaluations: 111\n",
      "                             Results: Logit\n",
      "=========================================================================\n",
      "Model:                 Logit              Pseudo R-squared:   0.300      \n",
      "Dependent Variable:    HeartDisease       AIC:                392459.6433\n",
      "Date:                  2022-10-25 21:57   BIC:                392677.8375\n",
      "No. Observations:      404218             Log-Likelihood:     -1.9621e+05\n",
      "Df Model:              19                 LL-Null:            -2.8018e+05\n",
      "Df Residuals:          404198             LLR p-value:        0.0000     \n",
      "Converged:             1.0000             Scale:              1.0000     \n",
      "No. Iterations:        111.0000                                          \n",
      "-------------------------------------------------------------------------\n",
      "                         Coef.  Std.Err.     z     P>|z|   [0.025  0.975]\n",
      "-------------------------------------------------------------------------\n",
      "AlcoholDrinking_Yes     -0.5376   0.0200  -26.8648 0.0000 -0.5768 -0.4984\n",
      "Stroke_No               -0.6848   0.0106  -64.7816 0.0000 -0.7055 -0.6640\n",
      "Stroke_Yes               0.5334   0.0210   25.4408 0.0000  0.4923  0.5745\n",
      "Sex_Male                 0.8672   0.0083  105.0328 0.0000  0.8510  0.8834\n",
      "AgeCategory_18-24       -2.4511   0.0414  -59.2640 0.0000 -2.5321 -2.3700\n",
      "AgeCategory_25-29       -2.0829   0.0387  -53.8280 0.0000 -2.1588 -2.0071\n",
      "AgeCategory_30-34       -1.7076   0.0314  -54.4546 0.0000 -1.7691 -1.6461\n",
      "AgeCategory_35-39       -1.6127   0.0285  -56.5238 0.0000 -1.6687 -1.5568\n",
      "AgeCategory_40-44       -1.2438   0.0241  -51.5805 0.0000 -1.2911 -1.1965\n",
      "AgeCategory_45-49       -0.9130   0.0209  -43.6017 0.0000 -0.9540 -0.8720\n",
      "AgeCategory_65-69        0.5845   0.0129   45.3751 0.0000  0.5592  0.6097\n",
      "AgeCategory_70-74        0.9858   0.0129   76.5502 0.0000  0.9606  1.0111\n",
      "AgeCategory_75-79        1.1737   0.0146   80.5214 0.0000  1.1452  1.2023\n",
      "AgeCategory_80 or older  1.5198   0.0138  110.2893 0.0000  1.4928  1.5469\n",
      "Race_Asian              -0.8572   0.0391  -21.9198 0.0000 -0.9339 -0.7806\n",
      "Diabetic_Yes             0.5416   0.0106   51.1467 0.0000  0.5209  0.5624\n",
      "GenHealth_Excellent     -1.4848   0.0146 -101.6633 0.0000 -1.5134 -1.4562\n",
      "GenHealth_Fair           0.6894   0.0124   55.7397 0.0000  0.6652  0.7137\n",
      "GenHealth_Poor           1.3850   0.0196   70.8266 0.0000  1.3467  1.4233\n",
      "GenHealth_Very good     -0.7574   0.0099  -76.7825 0.0000 -0.7767 -0.7381\n",
      "=========================================================================\n",
      "\n"
     ]
    }
   ],
   "source": [
    "# model summary\n",
    "print('=== train dataset ===')\n",
    "(logit_m20, logit_m20_result) = logitSummary(X_train_os, y_train_os, rfe_20)"
   ]
  },
  {
   "cell_type": "code",
   "execution_count": 11,
   "metadata": {},
   "outputs": [
    {
     "data": {
      "text/plain": [
       "AlcoholDrinking_Yes        5.665612e-159\n",
       "Stroke_No                   0.000000e+00\n",
       "Stroke_Yes                 8.930473e-143\n",
       "Sex_Male                    0.000000e+00\n",
       "AgeCategory_18-24           0.000000e+00\n",
       "AgeCategory_25-29           0.000000e+00\n",
       "AgeCategory_30-34           0.000000e+00\n",
       "AgeCategory_35-39           0.000000e+00\n",
       "AgeCategory_40-44           0.000000e+00\n",
       "AgeCategory_45-49           0.000000e+00\n",
       "AgeCategory_65-69           0.000000e+00\n",
       "AgeCategory_70-74           0.000000e+00\n",
       "AgeCategory_75-79           0.000000e+00\n",
       "AgeCategory_80 or older     0.000000e+00\n",
       "Race_Asian                 1.681827e-106\n",
       "Diabetic_Yes                0.000000e+00\n",
       "GenHealth_Excellent         0.000000e+00\n",
       "GenHealth_Fair              0.000000e+00\n",
       "GenHealth_Poor              0.000000e+00\n",
       "GenHealth_Very good         0.000000e+00\n",
       "dtype: float64"
      ]
     },
     "execution_count": 11,
     "metadata": {},
     "output_type": "execute_result"
    }
   ],
   "source": [
    "# p-values of variables\n",
    "logit_m20_result.pvalues"
   ]
  },
  {
   "cell_type": "code",
   "execution_count": 12,
   "metadata": {},
   "outputs": [
    {
     "name": "stdout",
     "output_type": "stream",
     "text": [
      "Train Accuracy: 0.77\n",
      "Test Accuracy: 0.73\n"
     ]
    }
   ],
   "source": [
    "# fitting logistic regression model and test accuracy\n",
    "(logreg_m20, logreg_m20_result) = fitLogRegModel(X_train_os, y_train_os, X_test, y_test, rfe_20)"
   ]
  },
  {
   "cell_type": "markdown",
   "metadata": {},
   "source": [
    "Conclusion (logreg_m20):\n",
    "- pseduo r-squared is 0.3, which is between 0.2 and 0.4, indicating excellent fit\n",
    "- p-values of all 20 important variables are close to 0, signifying that they are all statistically significant\n",
    "- train and test accuracy quite high at 0.77 and 0.73 respectively\n",
    "\n",
    "<br>\n",
    "\n",
    "Let's see if increasing the number of features will increase our testset accuracy"
   ]
  },
  {
   "cell_type": "markdown",
   "metadata": {},
   "source": [
    "**2.1 b) 2nd Model (logreg_m25 -> top 25 features)**"
   ]
  },
  {
   "cell_type": "code",
   "execution_count": 13,
   "metadata": {},
   "outputs": [],
   "source": [
    "# recursive feature elimination\n",
    "rfe_25 = rfeLogistic(X_train_os, y_train_os, 25)"
   ]
  },
  {
   "cell_type": "code",
   "execution_count": 14,
   "metadata": {},
   "outputs": [
    {
     "name": "stdout",
     "output_type": "stream",
     "text": [
      "=== train dataset ===\n",
      "Optimization terminated successfully    (Exit mode 0)\n",
      "            Current function value: 0.47868435426391026\n",
      "            Iterations: 112\n",
      "            Function evaluations: 112\n",
      "            Gradient evaluations: 112\n",
      "                                   Results: Logit\n",
      "====================================================================================\n",
      "Model:                    Logit                  Pseudo R-squared:       0.309      \n",
      "Dependent Variable:       HeartDisease           AIC:                    387035.6646\n",
      "Date:                     2022-10-25 21:58       BIC:                    387308.4074\n",
      "No. Observations:         404218                 Log-Likelihood:         -1.9349e+05\n",
      "Df Model:                 24                     LL-Null:                -2.8018e+05\n",
      "Df Residuals:             404193                 LLR p-value:            0.0000     \n",
      "Converged:                1.0000                 Scale:                  1.0000     \n",
      "No. Iterations:           112.0000                                                  \n",
      "------------------------------------------------------------------------------------\n",
      "                         Coef.    Std.Err.     z     P>|z|     [0.025       0.975]  \n",
      "------------------------------------------------------------------------------------\n",
      "Smoking_No              -0.4194      0.0083 -50.3173 0.0000      -0.4357     -0.4031\n",
      "AlcoholDrinking_Yes     -0.6393      0.0202 -31.6440 0.0000      -0.6789     -0.5997\n",
      "Stroke_No               -0.5125 123575.8667  -0.0000 1.0000 -242204.7606 242203.7356\n",
      "Stroke_Yes               0.6885 123575.8667   0.0000 1.0000 -242203.5596 242204.9366\n",
      "Sex_Female              -0.4652 123575.8667  -0.0000 1.0000 -242204.7133 242203.7829\n",
      "Sex_Male                 0.3425 123575.8667   0.0000 1.0000 -242203.9056 242204.5906\n",
      "AgeCategory_18-24       -2.0747      0.0420 -49.4397 0.0000      -2.1569     -1.9924\n",
      "AgeCategory_25-29       -1.7866      0.0394 -45.3655 0.0000      -1.8638     -1.7094\n",
      "AgeCategory_30-34       -1.4621      0.0322 -45.3859 0.0000      -1.5253     -1.3990\n",
      "AgeCategory_35-39       -1.3957      0.0295 -47.3385 0.0000      -1.4535     -1.3379\n",
      "AgeCategory_40-44       -1.0254      0.0252 -40.7270 0.0000      -1.0748     -0.9761\n",
      "AgeCategory_45-49       -0.6810      0.0221 -30.7999 0.0000      -0.7244     -0.6377\n",
      "AgeCategory_60-64        0.4455      0.0151  29.4578 0.0000       0.4158      0.4751\n",
      "AgeCategory_65-69        0.7451      0.0146  50.9987 0.0000       0.7165      0.7738\n",
      "AgeCategory_70-74        1.1196      0.0146  76.5139 0.0000       1.0910      1.1483\n",
      "AgeCategory_75-79        1.2920      0.0162  79.8563 0.0000       1.2603      1.3237\n",
      "AgeCategory_80 or older  1.6654      0.0155 107.6744 0.0000       1.6350      1.6957\n",
      "Race_Asian              -0.4455      0.0404 -11.0189 0.0000      -0.5248     -0.3663\n",
      "Race_White               0.3984      0.0120  33.2592 0.0000       0.3749      0.4219\n",
      "Diabetic_Yes             0.5364      0.0108  49.7034 0.0000       0.5152      0.5575\n",
      "GenHealth_Excellent     -1.4195      0.0148 -96.1425 0.0000      -1.4485     -1.3906\n",
      "GenHealth_Fair           0.6576      0.0126  52.3543 0.0000       0.6330      0.6822\n",
      "GenHealth_Poor           1.2762      0.0198  64.3536 0.0000       1.2373      1.3150\n",
      "GenHealth_Very good     -0.7312      0.0100 -73.1652 0.0000      -0.7508     -0.7116\n",
      "KidneyDisease_Yes        0.4666      0.0193  24.1353 0.0000       0.4287      0.5045\n",
      "====================================================================================\n",
      "\n"
     ]
    }
   ],
   "source": [
    "# model summary\n",
    "print('=== train dataset ===')\n",
    "(logit_m25, logit_m25_result) = logitSummary(X_train_os, y_train_os, rfe_25)"
   ]
  },
  {
   "cell_type": "code",
   "execution_count": 15,
   "metadata": {},
   "outputs": [
    {
     "data": {
      "text/plain": [
       "Smoking_No                  0.000000e+00\n",
       "AlcoholDrinking_Yes        9.172218e-220\n",
       "Stroke_No                   9.999967e-01\n",
       "Stroke_Yes                  9.999956e-01\n",
       "Sex_Female                  9.999970e-01\n",
       "Sex_Male                    9.999978e-01\n",
       "AgeCategory_18-24           0.000000e+00\n",
       "AgeCategory_25-29           0.000000e+00\n",
       "AgeCategory_30-34           0.000000e+00\n",
       "AgeCategory_35-39           0.000000e+00\n",
       "AgeCategory_40-44           0.000000e+00\n",
       "AgeCategory_45-49          2.631790e-208\n",
       "AgeCategory_60-64          1.000632e-190\n",
       "AgeCategory_65-69           0.000000e+00\n",
       "AgeCategory_70-74           0.000000e+00\n",
       "AgeCategory_75-79           0.000000e+00\n",
       "AgeCategory_80 or older     0.000000e+00\n",
       "Race_Asian                  3.097206e-28\n",
       "Race_White                 1.504186e-242\n",
       "Diabetic_Yes                0.000000e+00\n",
       "GenHealth_Excellent         0.000000e+00\n",
       "GenHealth_Fair              0.000000e+00\n",
       "GenHealth_Poor              0.000000e+00\n",
       "GenHealth_Very good         0.000000e+00\n",
       "KidneyDisease_Yes          1.064893e-128\n",
       "dtype: float64"
      ]
     },
     "execution_count": 15,
     "metadata": {},
     "output_type": "execute_result"
    }
   ],
   "source": [
    "# p-values of variables\n",
    "logit_m25_result.pvalues"
   ]
  },
  {
   "cell_type": "code",
   "execution_count": 16,
   "metadata": {},
   "outputs": [
    {
     "name": "stdout",
     "output_type": "stream",
     "text": [
      "Train Accuracy: 0.77\n",
      "Test Accuracy: 0.75\n"
     ]
    }
   ],
   "source": [
    "# fitting logistic regression model and test accuracy\n",
    "(logreg_m25, logreg_m25_result) = fitLogRegModel(X_train_os, y_train_os, X_test, y_test, rfe_25)"
   ]
  },
  {
   "cell_type": "markdown",
   "metadata": {},
   "source": [
    "Conclusion (logreg_m25):\n",
    "- pseduo r-squared is 0.309, which is between 0.2 and 0.4, indicating excellent fit\n",
    "- train and test accuracy quite high at 0.77 and 0.75 respectively, which is `better` than logreg_m20's test accuracy\n",
    "- `however`, the p-values of 4 variables are close to 1 (Stroke_No, Stroke_Yes, Sex_Female, Sex_Male), signifying that they are all not statistically significant\n",
    "\n",
    "\n",
    "<br>\n",
    "\n",
    "Let's see if decreasing the number of features by 4 will remove this statitisically insignificant variables"
   ]
  },
  {
   "cell_type": "markdown",
   "metadata": {},
   "source": [
    "**2.1 c) 3rd Model (logreg_m21 -> top 21 features)**"
   ]
  },
  {
   "cell_type": "code",
   "execution_count": 17,
   "metadata": {},
   "outputs": [],
   "source": [
    "# recursive feature elimination\n",
    "rfe_21 = rfeLogistic(X_train_os, y_train_os, 21)"
   ]
  },
  {
   "cell_type": "code",
   "execution_count": 18,
   "metadata": {},
   "outputs": [
    {
     "name": "stdout",
     "output_type": "stream",
     "text": [
      "=== train dataset ===\n",
      "Optimization terminated successfully    (Exit mode 0)\n",
      "            Current function value: 0.4841614871374755\n",
      "            Iterations: 118\n",
      "            Function evaluations: 118\n",
      "            Gradient evaluations: 118\n",
      "                             Results: Logit\n",
      "=========================================================================\n",
      "Model:                 Logit              Pseudo R-squared:   0.302      \n",
      "Dependent Variable:    HeartDisease       AIC:                391455.5760\n",
      "Date:                  2022-10-25 22:01   BIC:                391684.6799\n",
      "No. Observations:      404218             Log-Likelihood:     -1.9571e+05\n",
      "Df Model:              20                 LL-Null:            -2.8018e+05\n",
      "Df Residuals:          404197             LLR p-value:        0.0000     \n",
      "Converged:             1.0000             Scale:              1.0000     \n",
      "No. Iterations:        118.0000                                          \n",
      "-------------------------------------------------------------------------\n",
      "                         Coef.  Std.Err.     z     P>|z|   [0.025  0.975]\n",
      "-------------------------------------------------------------------------\n",
      "AlcoholDrinking_Yes     -0.5297   0.0200  -26.4382 0.0000 -0.5689 -0.4904\n",
      "Stroke_No               -0.8888   0.0125  -71.2044 0.0000 -0.9132 -0.8643\n",
      "Stroke_Yes               0.3255   0.0220   14.7899 0.0000  0.2824  0.3687\n",
      "Sex_Male                 0.8642   0.0083  104.4957 0.0000  0.8479  0.8804\n",
      "AgeCategory_18-24       -2.2466   0.0419  -53.6425 0.0000 -2.3287 -2.1645\n",
      "AgeCategory_25-29       -1.8772   0.0392  -47.8484 0.0000 -1.9540 -1.8003\n",
      "AgeCategory_30-34       -1.5030   0.0320  -46.9131 0.0000 -1.5658 -1.4402\n",
      "AgeCategory_35-39       -1.4088   0.0293  -48.1065 0.0000 -1.4661 -1.3514\n",
      "AgeCategory_40-44       -1.0391   0.0250  -41.5727 0.0000 -1.0881 -0.9901\n",
      "AgeCategory_45-49       -0.7073   0.0220  -32.2208 0.0000 -0.7503 -0.6643\n",
      "AgeCategory_60-64        0.4748   0.0150   31.6555 0.0000  0.4454  0.5042\n",
      "AgeCategory_65-69        0.7899   0.0145   54.5382 0.0000  0.7615  0.8183\n",
      "AgeCategory_70-74        1.1912   0.0145   82.2372 0.0000  1.1628  1.2196\n",
      "AgeCategory_75-79        1.3790   0.0160   86.1269 0.0000  1.3476  1.4103\n",
      "AgeCategory_80 or older  1.7240   0.0153  112.8211 0.0000  1.6941  1.7540\n",
      "Race_Asian              -0.8470   0.0392  -21.6085 0.0000 -0.9238 -0.7702\n",
      "Diabetic_Yes             0.5338   0.0106   50.3298 0.0000  0.5130  0.5546\n",
      "GenHealth_Excellent     -1.4790   0.0146 -101.1001 0.0000 -1.5077 -1.4503\n",
      "GenHealth_Fair           0.6913   0.0124   55.7806 0.0000  0.6670  0.7156\n",
      "GenHealth_Poor           1.3907   0.0196   70.9929 0.0000  1.3523  1.4291\n",
      "GenHealth_Very good     -0.7560   0.0099  -76.5161 0.0000 -0.7754 -0.7367\n",
      "=========================================================================\n",
      "\n"
     ]
    }
   ],
   "source": [
    "# model summary\n",
    "print('=== train dataset ===')\n",
    "(logit_m21, logit_m21_result) = logitSummary(X_train_os, y_train_os, rfe_21)"
   ]
  },
  {
   "cell_type": "code",
   "execution_count": 19,
   "metadata": {},
   "outputs": [
    {
     "data": {
      "text/plain": [
       "AlcoholDrinking_Yes        4.982480e-154\n",
       "Stroke_No                   0.000000e+00\n",
       "Stroke_Yes                  1.702987e-49\n",
       "Sex_Male                    0.000000e+00\n",
       "AgeCategory_18-24           0.000000e+00\n",
       "AgeCategory_25-29           0.000000e+00\n",
       "AgeCategory_30-34           0.000000e+00\n",
       "AgeCategory_35-39           0.000000e+00\n",
       "AgeCategory_40-44           0.000000e+00\n",
       "AgeCategory_45-49          9.031435e-228\n",
       "AgeCategory_60-64          6.379376e-220\n",
       "AgeCategory_65-69           0.000000e+00\n",
       "AgeCategory_70-74           0.000000e+00\n",
       "AgeCategory_75-79           0.000000e+00\n",
       "AgeCategory_80 or older     0.000000e+00\n",
       "Race_Asian                 1.492917e-103\n",
       "Diabetic_Yes                0.000000e+00\n",
       "GenHealth_Excellent         0.000000e+00\n",
       "GenHealth_Fair              0.000000e+00\n",
       "GenHealth_Poor              0.000000e+00\n",
       "GenHealth_Very good         0.000000e+00\n",
       "dtype: float64"
      ]
     },
     "execution_count": 19,
     "metadata": {},
     "output_type": "execute_result"
    }
   ],
   "source": [
    "# p-values of variables\n",
    "logit_m21_result.pvalues"
   ]
  },
  {
   "cell_type": "code",
   "execution_count": 20,
   "metadata": {},
   "outputs": [
    {
     "name": "stdout",
     "output_type": "stream",
     "text": [
      "Train Accuracy: 0.77\n",
      "Test Accuracy: 0.74\n"
     ]
    }
   ],
   "source": [
    "# fitting logistic regression model and test accuracy\n",
    "(logreg_m21, logreg_m21_result) = fitLogRegModel(X_train_os, y_train_os, X_test, y_test, rfe_21)"
   ]
  },
  {
   "cell_type": "markdown",
   "metadata": {},
   "source": [
    "Conclusion (logreg_m21):\n",
    "- pseduo r-squared is 0.302, which is between 0.2 and 0.4, indicating excellent fit\n",
    "- p-values of all 20 important variables are close to 0, signifying that they are all statistically significant (`better` than logreg_m25)\n",
    "- train and test accuracy quite high at 0.77 and 0.74 respectively, which is `better` than logreg_m20's test accuracy\n",
    "\n",
    "\n",
    "<br>\n",
    "\n",
    "This model appears the best :)"
   ]
  },
  {
   "cell_type": "markdown",
   "metadata": {},
   "source": [
    "#### 2.2 Model Evaluation\n",
    "\n",
    "- Confusion Matrix, with TPR, TNR, FPR, FNR\n",
    "- Precision, recall, F1-score and support\n",
    "- ROC Curve\n",
    "\n",
    "\n",
    "> The `precision` is the ratio tp / (tp + fp) where tp is the number of true positives and fp the number of false positives. The precision is intuitively the ability of the classifier to not label a sample as positive if it is negative.\n",
    "> \n",
    "> The `recall` is the ratio tp / (tp + fn) where tp is the number of true positives and fn the number of false negatives. The recall is intuitively the ability of the classifier to find all the positive samples.\n",
    "> \n",
    "> The `F1-score` can be interpreted as a weighted harmonic mean of the precision and recall, where an F-beta score reaches its best value at 1 and worst score at 0.\n",
    "> \n",
    "> The `support` is the number of occurrences of each class in y_test."
   ]
  },
  {
   "cell_type": "code",
   "execution_count": 21,
   "metadata": {},
   "outputs": [],
   "source": [
    "# Confusion Metrics\n",
    "from sklearn.metrics import confusion_matrix\n",
    "\n",
    "def computeConfusionMatrix(y_test, y_test_pred):\n",
    "    print(confusion_matrix(y_test, y_test_pred))\n",
    "\n",
    "    # Check the Goodness of Fit (on Test Data)\n",
    "    print(\"Goodness of Fit of Model \\tTest Dataset\")\n",
    "    print()\n",
    "    CM1 = metrics.confusion_matrix(y_test, y_test_pred)\n",
    "    TN1 = CM1[0][0]\n",
    "    FN1 = CM1[1][0]\n",
    "    TP1 = CM1[1][1]\n",
    "    FP1 = CM1[0][1]\n",
    "\n",
    "    TPR1 = TP1 / (TP1 + FN1)\n",
    "    TNR1 = TN1 / (TN1 + FP1)\n",
    "    FPR1 = FP1/(TN1+FP1)\n",
    "    FNR1 = FN1/(TP1+FN1)\n",
    "\n",
    "    print(\"The True Positive Rate is\\t\", TPR1)\n",
    "    print(\"The True Negative Rate is\\t\", TNR1)\n",
    "    print(\"False Postive Rate:\\t\", FPR1)\n",
    "    print(\"False Negative Rate\\t:\", FNR1)\n",
    "    print()\n",
    "\n",
    "    # Plot the Confusion Matrix for Train and Test\n",
    "    plt.figure(figsize=(12, 4))\n",
    "    sb.heatmap(CM1, annot = True, fmt=\".0f\", \n",
    "               annot_kws={\"size\": 18})\n",
    "\n",
    "\n",
    "# Precision, Recall, F1-score and Support\n",
    "from sklearn.metrics import classification_report\n",
    "\n",
    "def computeClassificationReport(y_test, y_pred):\n",
    "    print(classification_report(y_test, y_pred))\n",
    "\n",
    "\n",
    "# ROC Curve\n",
    "import matplotlib.pyplot as plt\n",
    "plt.rc(\"font\", size=14)\n",
    "from sklearn.metrics import roc_auc_score\n",
    "from sklearn.metrics import roc_curve\n",
    "\n",
    "def computeROCCurve(model, X_test, y_test, title):    \n",
    "    logit_roc_auc = roc_auc_score(y_test, model.predict(X_test))\n",
    "    fpr, tpr, thresholds = roc_curve(y_test, model.predict_proba(X_test)[:,1])\n",
    "    plt.figure()\n",
    "    plt.plot(fpr, tpr, label=title+' (area = %0.2f)' % logit_roc_auc)\n",
    "    plt.plot([0, 1], [0, 1],'r--')\n",
    "    plt.xlim([0.0, 1.0])\n",
    "    plt.ylim([0.0, 1.05])\n",
    "    plt.xlabel('False Positive Rate')\n",
    "    plt.ylabel('True Positive Rate')\n",
    "    plt.title('Receiver operating characteristic')\n",
    "    plt.legend(loc=\"lower right\")\n",
    "    \n",
    "    plt.show()"
   ]
  },
  {
   "cell_type": "markdown",
   "metadata": {},
   "source": [
    "**2.2 a) Confusion Matrix**"
   ]
  },
  {
   "cell_type": "code",
   "execution_count": 22,
   "metadata": {},
   "outputs": [
    {
     "name": "stdout",
     "output_type": "stream",
     "text": [
      "===== logreg_m20 =====\n",
      "[[62392 24150]\n",
      " [ 1748  6286]]\n",
      "Goodness of Fit of Model \tTest Dataset\n",
      "\n",
      "The True Positive Rate is\t 0.7824246950460543\n",
      "The True Negative Rate is\t 0.7209447435927064\n",
      "False Postive Rate:\t 0.27905525640729356\n",
      "False Negative Rate\t: 0.21757530495394573\n",
      "\n"
     ]
    },
    {
     "data": {
      "image/png": "[encoded data removed]",
      "text/plain": [
       "<Figure size 864x288 with 2 Axes>"
      ]
     },
     "metadata": {
      "needs_background": "light"
     },
     "output_type": "display_data"
    }
   ],
   "source": [
    "# 1st model\n",
    "print('===== logreg_m20 =====')\n",
    "computeConfusionMatrix(y_test, logreg_m20.predict(X_test[rfe_20.get_feature_names_out()]))"
   ]
  },
  {
   "cell_type": "code",
   "execution_count": 23,
   "metadata": {},
   "outputs": [
    {
     "name": "stdout",
     "output_type": "stream",
     "text": [
      "\n",
      "===== logreg_m25 =====\n",
      "[[64744 21798]\n",
      " [ 1865  6169]]\n",
      "Goodness of Fit of Model \tTest Dataset\n",
      "\n",
      "The True Positive Rate is\t 0.7678615882499378\n",
      "The True Negative Rate is\t 0.7481222989993298\n",
      "False Postive Rate:\t 0.2518777010006702\n",
      "False Negative Rate\t: 0.23213841175006222\n",
      "\n"
     ]
    },
    {
     "data": {
      "image/png": "[encoded data removed]",
      "text/plain": [
       "<Figure size 864x288 with 2 Axes>"
      ]
     },
     "metadata": {
      "needs_background": "light"
     },
     "output_type": "display_data"
    }
   ],
   "source": [
    "# 2nd model\n",
    "print('\\n===== logreg_m25 =====')\n",
    "computeConfusionMatrix(y_test, logreg_m25.predict(X_test[rfe_25.get_feature_names_out()]))"
   ]
  },
  {
   "cell_type": "code",
   "execution_count": 24,
   "metadata": {},
   "outputs": [
    {
     "name": "stdout",
     "output_type": "stream",
     "text": [
      "\n",
      "===== logreg_m21 =====\n",
      "[[64034 22508]\n",
      " [ 1851  6183]]\n",
      "Goodness of Fit of Model \tTest Dataset\n",
      "\n",
      "The True Positive Rate is\t 0.7696041822255415\n",
      "The True Negative Rate is\t 0.7399181900117862\n",
      "False Postive Rate:\t 0.26008180998821384\n",
      "False Negative Rate\t: 0.23039581777445856\n",
      "\n"
     ]
    },
    {
     "data": {
      "image/png": "[encoded data removed]",
      "text/plain": [
       "<Figure size 864x288 with 2 Axes>"
      ]
     },
     "metadata": {
      "needs_background": "light"
     },
     "output_type": "display_data"
    }
   ],
   "source": [
    "\n",
    "# 3rd model\n",
    "print('\\n===== logreg_m21 =====')\n",
    "computeConfusionMatrix(y_test, logreg_m21.predict(X_test[rfe_21.get_feature_names_out()]))"
   ]
  },
  {
   "cell_type": "markdown",
   "metadata": {},
   "source": [
    "Interpretation:\n",
    "- `logreg_20`: 68678 correct predictions and 25898 incorrect predictions -> 72.62% accuracy\n",
    "- `logreg_25`: 70913 correct predictions and 23663 incorrect predictions -> 74.98% accuracy\n",
    "- `logreg_21`: 70217 correct predictions and 24359 incorrect predictions -> 74.24% accuracy\n",
    "\n",
    "> The accuracy is quite good! Especially for `logreg_21` and `logreg_25`!\n",
    "\n",
    "<br>\n",
    "\n",
    "We can explore more in depth about this confusion matrix by calculating the precision, recall, and f1-score"
   ]
  },
  {
   "cell_type": "markdown",
   "metadata": {},
   "source": [
    "**2.2 b) Precision, Recall, F1-score and Support**"
   ]
  },
  {
   "cell_type": "code",
   "execution_count": 25,
   "metadata": {},
   "outputs": [
    {
     "name": "stdout",
     "output_type": "stream",
     "text": [
      "===== logreg_m20 =====\n",
      "              precision    recall  f1-score   support\n",
      "\n",
      "           0       0.97      0.72      0.83     86542\n",
      "           1       0.21      0.78      0.33      8034\n",
      "\n",
      "    accuracy                           0.73     94576\n",
      "   macro avg       0.59      0.75      0.58     94576\n",
      "weighted avg       0.91      0.73      0.79     94576\n",
      "\n"
     ]
    }
   ],
   "source": [
    "# 1st model\n",
    "print('===== logreg_m20 =====')\n",
    "computeClassificationReport(y_test, logreg_m20.predict(X_test[rfe_20.get_feature_names_out()]))"
   ]
  },
  {
   "cell_type": "code",
   "execution_count": 26,
   "metadata": {},
   "outputs": [
    {
     "name": "stdout",
     "output_type": "stream",
     "text": [
      "\n",
      "===== logreg_m25 =====\n",
      "              precision    recall  f1-score   support\n",
      "\n",
      "           0       0.97      0.75      0.85     86542\n",
      "           1       0.22      0.77      0.34      8034\n",
      "\n",
      "    accuracy                           0.75     94576\n",
      "   macro avg       0.60      0.76      0.59     94576\n",
      "weighted avg       0.91      0.75      0.80     94576\n",
      "\n"
     ]
    }
   ],
   "source": [
    "# 2nd model\n",
    "print('\\n===== logreg_m25 =====')\n",
    "computeClassificationReport(y_test, logreg_m25.predict(X_test[rfe_25.get_feature_names_out()]))"
   ]
  },
  {
   "cell_type": "code",
   "execution_count": 27,
   "metadata": {},
   "outputs": [
    {
     "name": "stdout",
     "output_type": "stream",
     "text": [
      "\n",
      "===== logreg_m21 =====\n",
      "              precision    recall  f1-score   support\n",
      "\n",
      "           0       0.97      0.74      0.84     86542\n",
      "           1       0.22      0.77      0.34      8034\n",
      "\n",
      "    accuracy                           0.74     94576\n",
      "   macro avg       0.59      0.75      0.59     94576\n",
      "weighted avg       0.91      0.74      0.80     94576\n",
      "\n"
     ]
    }
   ],
   "source": [
    "# 3rd model\n",
    "print('\\n===== logreg_m21 =====')\n",
    "computeClassificationReport(y_test, logreg_m21.predict(X_test[rfe_21.get_feature_names_out()]))"
   ]
  },
  {
   "cell_type": "markdown",
   "metadata": {},
   "source": [
    "Interpretation:\n",
    "- For `all models`, the weighted avg of precision and recall are good. The f1-score is also `very good` (around 0.8), which shows that the model performs well."
   ]
  },
  {
   "cell_type": "markdown",
   "metadata": {},
   "source": [
    "**2.2 c) ROC Curve**\n",
    "- Receiver operating characteristic (ROC) curve\n",
    "- The dotted line represents the ROC curve of a purely random classifier\n",
    "- A good classifier stays as far away from that line as possible (toward the top-left corner)."
   ]
  },
  {
   "cell_type": "code",
   "execution_count": 28,
   "metadata": {},
   "outputs": [
    {
     "name": "stdout",
     "output_type": "stream",
     "text": [
      "===== logreg_m20 =====\n"
     ]
    },
    {
     "data": {
      "image/png": "[encoded data removed]",
      "text/plain": [
       "<Figure size 432x288 with 1 Axes>"
      ]
     },
     "metadata": {
      "needs_background": "light"
     },
     "output_type": "display_data"
    },
    {
     "name": "stdout",
     "output_type": "stream",
     "text": [
      "\n",
      "===== logreg_m25 =====\n"
     ]
    },
    {
     "data": {
      "image/png": "[encoded data removed]",
      "text/plain": [
       "<Figure size 432x288 with 1 Axes>"
      ]
     },
     "metadata": {
      "needs_background": "light"
     },
     "output_type": "display_data"
    },
    {
     "name": "stdout",
     "output_type": "stream",
     "text": [
      "\n",
      "===== logreg_m21 =====\n"
     ]
    },
    {
     "data": {
      "image/png": "[encoded data removed]",
      "text/plain": [
       "<Figure size 432x288 with 1 Axes>"
      ]
     },
     "metadata": {
      "needs_background": "light"
     },
     "output_type": "display_data"
    }
   ],
   "source": [
    "# 1st model\n",
    "print('===== logreg_m20 =====')\n",
    "computeROCCurve(logreg_m20, X_test[rfe_20.get_feature_names_out()], y_test, title=\"LogisticRegression\")\n",
    "# 2nd model\n",
    "print('\\n===== logreg_m25 =====')\n",
    "computeROCCurve(logreg_m25, X_test[rfe_25.get_feature_names_out()], y_test, title=\"LogisticRegression\")\n",
    "# 3rd model\n",
    "print('\\n===== logreg_m21 =====')\n",
    "computeROCCurve(logreg_m21, X_test[rfe_21.get_feature_names_out()], y_test, title=\"LogisticRegression\")"
   ]
  },
  {
   "cell_type": "markdown",
   "metadata": {},
   "source": [
    "Interpretation:\n",
    "- The ROC AUC score is quite good (~0.75), which indicates that all the 3 models are good classifier for the dataset\n",
    "- The best ROC AUC score belongs to logreg_m25, which contains 25 features, but 4 of them have statistically insignificant variables\n",
    "- The model logreg_m21 has a ROC AUC score of 0.75 which is almost the same to that of logreg_25, even though it has less variables.\n",
    "- Taking the model complexity into account, `logreg_m21` is the better model of the 3"
   ]
  },
  {
   "cell_type": "markdown",
   "metadata": {},
   "source": [
    "#### 2.3 Logistic Regression Conclusion"
   ]
  },
  {
   "cell_type": "markdown",
   "metadata": {},
   "source": [
    "**2.3 a) The logistic regression model, `logreg_m21` is the best model!**\n",
    "- High accuracy performance on test dataset (74.98%) with relatively lesser number of features (21) compared to the other 2 models (logreg_20 & log_reg_25)\n",
    "- Very good f1-score of 0.8 (similar to the other 2 models)\n",
    "- Good ROC AUC score of 0.75 (similar to the other 2 models)\n",
    "\n",
    "<br>\n",
    "\n",
    "**2.3 b) NOTE: It can be observed that these 3 models only slightly differ in their performance.**\n",
    "- This is because we did Recursive Feature Elimination from 50 features to 20/21/25 features\n",
    "- So what we did here was to further fine-tune and determine the optimal number of features given our hardward constraints (no GPU)\n",
    "\n",
    "<br>\n",
    "\n",
    "**2.3 c) Important Features:**"
   ]
  },
  {
   "cell_type": "code",
   "execution_count": 32,
   "metadata": {},
   "outputs": [
    {
     "name": "stdout",
     "output_type": "stream",
     "text": [
      "['AlcoholDrinking_Yes' 'Stroke_No' 'Stroke_Yes' 'Sex_Male'\n",
      " 'AgeCategory_18-24' 'AgeCategory_25-29' 'AgeCategory_30-34'\n",
      " 'AgeCategory_35-39' 'AgeCategory_40-44' 'AgeCategory_45-49'\n",
      " 'AgeCategory_60-64' 'AgeCategory_65-69' 'AgeCategory_70-74'\n",
      " 'AgeCategory_75-79' 'AgeCategory_80 or older' 'Race_Asian' 'Diabetic_Yes'\n",
      " 'GenHealth_Excellent' 'GenHealth_Fair' 'GenHealth_Poor'\n",
      " 'GenHealth_Very good']\n"
     ]
    }
   ],
   "source": [
    "print(rfe_21.get_feature_names_out())"
   ]
  },
  {
   "cell_type": "markdown",
   "metadata": {},
   "source": [
    "The 6 important features are:\n",
    "- `AlcoholDrinking`\n",
    "- `Stroke`\n",
    "- `AgeCategory`\n",
    "- `Race`\n",
    "- `Diabetic`\n",
    "- `GenHealth`"
   ]
  },
  {
   "cell_type": "markdown",
   "metadata": {},
   "source": [
    "**2.3 d) How can individuals use this model?**\n",
    "\n",
    "**Individuals can user the following 6 questions by themselves:**\n",
    "\n",
    "- `AlcoholDrinking` -> Have more than 7 drinks per week?\n",
    "  - True/False\n",
    "- `Stroke` -> (Ever told) (you had) a stroke?\n",
    "  - True/False\n",
    "- `AgeCategory` -> What is your age range?\n",
    "  - 13 unique levels age category\n",
    "  - '18-24'\n",
    "  - '25-29'\n",
    "  - '30-34'\n",
    "  - '35-39'\n",
    "  - '40-44'\n",
    "  - '45-49'\n",
    "  - '50-54'\n",
    "  - '55-59'\n",
    "  - '60-64'\n",
    "  - '65-69'\n",
    "  - '70-74'\n",
    "  - '75-79'\n",
    "  - '80 or older'\n",
    "- `Race` -> Imputed race/ethnicity value?\n",
    "  - 6 unique different races\n",
    "  - 'Race_American Indian/Alaskan Native'\n",
    "  - 'Race_Asian'\n",
    "  - 'Race_Black'\n",
    "  - 'Race_Hispanic'\n",
    "  - 'Race_Other'\n",
    "  - 'Race_White'\n",
    "- `Diabetic` -> (Ever told) (you had) diabetes?\n",
    "  - 'Diabetic_No'\n",
    "  - 'Diabetic_No, borderline diabetes'\n",
    "  - 'Diabetic_Yes'\n",
    "  - 'Diabetic_Yes (during pregnancy)'\n",
    "- `GenHealth` -> Would you say that in general your health is...\n",
    "  - 'GenHealth_Excellent'\n",
    "  - 'GenHealth_Very good'\n",
    "  - 'GenHealth_Good'\n",
    "  - 'GenHealth_Fair'\n",
    "  - 'GenHealth_Poor'"
   ]
  },
  {
   "cell_type": "code",
   "execution_count": 33,
   "metadata": {},
   "outputs": [
    {
     "name": "stdout",
     "output_type": "stream",
     "text": [
      "DANGER! You will have a heart attack soon!\n"
     ]
    }
   ],
   "source": [
    "# asumming this this a individual's answers (after OneHotEncoding)\n",
    "userAnswers = pd.DataFrame(X_train.loc[1, rfe_21.get_feature_names_out()]).T\n",
    "\n",
    "userResult = \"DANGER! You will have a heart attack soon!\" if logreg_m21.predict(userAnswers)[0] else \"You are safe :)\"\n",
    "\n",
    "print(userResult)\n"
   ]
  },
  {
   "cell_type": "markdown",
   "metadata": {},
   "source": [
    "**2.3 e) Assumptions Made**\n",
    "- Individuals answer the 6 questions truthfully and correctly\n",
    "- Independence of errors\n",
    "- Absence of multicollinearity\n",
    "- Lack of strongly influential outliers."
   ]
  },
  {
   "cell_type": "markdown",
   "metadata": {},
   "source": [
    "#### 2.4 Export regression model (logreg_m21)"
   ]
  },
  {
   "cell_type": "markdown",
   "metadata": {},
   "source": [
    "**2.4 a) Export**"
   ]
  },
  {
   "cell_type": "code",
   "execution_count": 34,
   "metadata": {},
   "outputs": [
    {
     "data": {
      "text/plain": [
       "['models/stage1_logreg_21.sav']"
      ]
     },
     "execution_count": 34,
     "metadata": {},
     "output_type": "execute_result"
    }
   ],
   "source": [
    "# Save Model Using joblib\n",
    "import joblib\n",
    "\n",
    "# save the models to disk\n",
    "filename = 'models/stage1_logreg_rfe_21.sav'\n",
    "joblib.dump(rfe_21, filename)\n",
    "\n",
    "filename = 'models/stage1_logreg_21.sav'\n",
    "joblib.dump(logreg_m21, filename)"
   ]
  },
  {
   "cell_type": "markdown",
   "metadata": {},
   "source": [
    "**2.4 b) Steps to import model**"
   ]
  },
  {
   "cell_type": "code",
   "execution_count": 35,
   "metadata": {},
   "outputs": [
    {
     "name": "stdout",
     "output_type": "stream",
     "text": [
      "0.7424399424801218\n"
     ]
    }
   ],
   "source": [
    "# some time later...\n",
    " \n",
    "# load the model from disk\n",
    "loaded_model_rfe_21 = joblib.load('models/stage1_logreg_rfe_21.sav')\n",
    "loaded_model_logreg_21 = joblib.load('models/stage1_logreg_21.sav')\n",
    "result = loaded_model_logreg_21.score(X_test[loaded_model_rfe_21.get_feature_names_out()], y_test)\n",
    "print(result)"
   ]
  },
  {
   "cell_type": "markdown",
   "metadata": {},
   "source": [
    "## 3. Gradient Boosting Classifier\n",
    "\n",
    "**What is it?**\n",
    "- Iteratively learn from each of the weak learners to build a strong model\n",
    "- 3 main components:\n",
    "  1. **Loss Function** \n",
    "       - estimate how good the model is at making predictions with the given data\n",
    "  2. **Weak Learner** \n",
    "       - one that classifies our data but does so poorly (i.e. high error rate)\n",
    "  4. **Additive Model** \n",
    "       - Iterative and sequential approach of adding the trees (weak learners) one step at a time. Each iteration should reduce the value of our loss function. After each iteration, we need to be closer to our final model.\n",
    "\n",
    "**Why Gradient Boosting Classifier?**\n",
    "- To get a better accuracy compared to logistic regression\n",
    "\n",
    "\n",
    "**References**\n",
    "- https://scikit-learn.org/stable/modules/generated/sklearn.ensemble.GradientBoostingClassifier.html\n",
    "- https://blog.paperspace.com/gradient-boosting-for-classification/\n",
    "- https://medium.com/geekculture/finding-the-important-features-of-a-feature-set-a-classification-task-with-sklearns-algorithms-3003f740faf9\n",
    "- https://www.kaggle.com/code/ericbae731/feature-importance-of-gradient-boosting-simple/notebook\n",
    "\n"
   ]
  },
  {
   "cell_type": "markdown",
   "metadata": {},
   "source": [
    "#### 3.1 Model Building + Hyperparameter Tuning\n",
    "https://blog.paperspace.com/gradient-boosting-for-classification/\n",
    "\n",
    "Parameters:\n",
    "- `n_estimators` : The number of boosting stages to perform. Gradient boosting is fairly robust to over-fitting, so a large number usually results in a better performance.\n",
    "- `learning_rate` : learning rate shrinks the contribution of each tree by learning_rate. There is a trade-off between learning_rate and n_estimators.\n",
    "- `max_features` : The number of features to consider when looking for the best split.\n",
    "- `max_depth` : maximum depth of the individual regression estimators. The maximum depth limits the number of nodes in the tree. Tune this parameter for best performance; the best value depends on the interaction of the input variables.\n",
    "- `random_state` : random_state is the seed used by the random number generator.\n",
    "\n",
    "<br>\n",
    "\n",
    "We will conduct hyperparameter tuning on these 2 parameters, `n_estimators` and `learning_rate`, to obtain the best parameters for the model to perform well.\n"
   ]
  },
  {
   "cell_type": "code",
   "execution_count": 52,
   "metadata": {},
   "outputs": [],
   "source": [
    "from sklearn.metrics import confusion_matrix\n",
    "\n",
    "learning_rates = [0.05, 0.1, 0.25, 0.5, 0.75, 1]\n",
    "n_estimators = [10, 20, 50, 75, 100]\n",
    "\n",
    "# learning rates + n_estimators\n",
    "testResultMatrix_GBC = []\n",
    "\n",
    "for learning_rate in learning_rates:\n",
    "    curTestResult = []\n",
    "    for n_estimator in n_estimators:\n",
    "        gb = GradientBoostingClassifier(n_estimators=n_estimator, learning_rate = learning_rate, max_features=2, max_depth = 2, random_state = 0)\n",
    "        gb.fit(X_train_os, y_train_os.values.ravel())\n",
    "\n",
    "        # Accuracy\n",
    "        curTestResult.append(gb.score(X_test, y_test))\n",
    "\n",
    "        # print(\"Learning rate: \", learning_rate)\n",
    "        # print(\"n_estimator: \", n_estimator)\n",
    "        # print(\"Accuracy score (training): {0:.3f}\".format(gb.score(X_train_os, y_train_os)))\n",
    "        # print(\"Accuracy score (validation): {0:.3f}\".format(gb.score(X_test, y_test)))\n",
    "\n",
    "    testResultMatrix_GBC.append(curTestResult)"
   ]
  },
  {
   "cell_type": "code",
   "execution_count": 53,
   "metadata": {},
   "outputs": [
    {
     "name": "stdout",
     "output_type": "stream",
     "text": [
      "[[0.742207325325664, 0.773980713923194, 0.8107659448485873, 0.8148261715445779, 0.8105439012011504], [0.7428205887328709, 0.7880646252749112, 0.8024234478091693, 0.8052677211977669, 0.8053100152258501], [0.7861085264760616, 0.7950114193875825, 0.8155240230079512, 0.8218469802063949, 0.8287937743190662], [0.7831902385383184, 0.8050139570292675, 0.8247335476230756, 0.8444848587379462, 0.8526793266790729], [0.7859922178988327, 0.8212231432921672, 0.8412387920825579, 0.8532820165792591, 0.8650397563863983], [0.7708615293520555, 0.8181568262561326, 0.8497187447132465, 0.8654838436812722, 0.8754229402808323]]\n"
     ]
    }
   ],
   "source": [
    "print(testResultMatrix_GBC)"
   ]
  },
  {
   "cell_type": "code",
   "execution_count": 54,
   "metadata": {},
   "outputs": [
    {
     "data": {
      "image/png": "[encoded data removed]",
      "text/plain": [
       "<Figure size 720x720 with 1 Axes>"
      ]
     },
     "metadata": {
      "needs_background": "light"
     },
     "output_type": "display_data"
    }
   ],
   "source": [
    "plt.figure(figsize=(10,10))\n",
    "\n",
    "\n",
    "for i, learning_rate in enumerate(learning_rates):\n",
    "    # n_estimators\n",
    "    resultRow = testResultMatrix_GBC[i]\n",
    "\n",
    "    plt.plot(\n",
    "        n_estimators, \n",
    "        resultRow, \n",
    "        label = learning_rate, \n",
    "        marker = 'o')\n",
    "plt.legend(title=\"learning_rate\")\n",
    "plt.xlabel(\"n_estimator\")\n",
    "plt.ylabel(\"weighted average score\")\n",
    "plt.show()"
   ]
  },
  {
   "cell_type": "markdown",
   "metadata": {},
   "source": [
    "**Conclusion:**\n",
    "- The best value of `learning_rate` and `n_estimator` combination is (1, 100)"
   ]
  },
  {
   "cell_type": "markdown",
   "metadata": {},
   "source": [
    "#### 3.2 Fit and Evaluate model with best hyperparameters (learning_rate and n_estimator)"
   ]
  },
  {
   "cell_type": "markdown",
   "metadata": {},
   "source": [
    "**3.2 a) Model Fitting with best hyperparameters**\n",
    "- n_estimators = `100`\n",
    "- learning_rate = `1`\n",
    "- max_features = 2\n",
    "- max_depth = 2\n",
    "- random_state = 0"
   ]
  },
  {
   "cell_type": "code",
   "execution_count": 55,
   "metadata": {},
   "outputs": [
    {
     "data": {
      "text/html": [
       "<style>#sk-container-id-1 {color: black;background-color: white;}#sk-container-id-1 pre{padding: 0;}#sk-container-id-1 div.sk-toggleable {background-color: white;}#sk-container-id-1 label.sk-toggleable__label {cursor: pointer;display: block;width: 100%;margin-bottom: 0;padding: 0.3em;box-sizing: border-box;text-align: center;}#sk-container-id-1 label.sk-toggleable__label-arrow:before {content: \"▸\";float: left;margin-right: 0.25em;color: #696969;}#sk-container-id-1 label.sk-toggleable__label-arrow:hover:before {color: black;}#sk-container-id-1 div.sk-estimator:hover label.sk-toggleable__label-arrow:before {color: black;}#sk-container-id-1 div.sk-toggleable__content {max-height: 0;max-width: 0;overflow: hidden;text-align: left;background-color: #f0f8ff;}#sk-container-id-1 div.sk-toggleable__content pre {margin: 0.2em;color: black;border-radius: 0.25em;background-color: #f0f8ff;}#sk-container-id-1 input.sk-toggleable__control:checked~div.sk-toggleable__content {max-height: 200px;max-width: 100%;overflow: auto;}#sk-container-id-1 input.sk-toggleable__control:checked~label.sk-toggleable__label-arrow:before {content: \"▾\";}#sk-container-id-1 div.sk-estimator input.sk-toggleable__control:checked~label.sk-toggleable__label {background-color: #d4ebff;}#sk-container-id-1 div.sk-label input.sk-toggleable__control:checked~label.sk-toggleable__label {background-color: #d4ebff;}#sk-container-id-1 input.sk-hidden--visually {border: 0;clip: rect(1px 1px 1px 1px);clip: rect(1px, 1px, 1px, 1px);height: 1px;margin: -1px;overflow: hidden;padding: 0;position: absolute;width: 1px;}#sk-container-id-1 div.sk-estimator {font-family: monospace;background-color: #f0f8ff;border: 1px dotted black;border-radius: 0.25em;box-sizing: border-box;margin-bottom: 0.5em;}#sk-container-id-1 div.sk-estimator:hover {background-color: #d4ebff;}#sk-container-id-1 div.sk-parallel-item::after {content: \"\";width: 100%;border-bottom: 1px solid gray;flex-grow: 1;}#sk-container-id-1 div.sk-label:hover label.sk-toggleable__label {background-color: #d4ebff;}#sk-container-id-1 div.sk-serial::before {content: \"\";position: absolute;border-left: 1px solid gray;box-sizing: border-box;top: 0;bottom: 0;left: 50%;z-index: 0;}#sk-container-id-1 div.sk-serial {display: flex;flex-direction: column;align-items: center;background-color: white;padding-right: 0.2em;padding-left: 0.2em;position: relative;}#sk-container-id-1 div.sk-item {position: relative;z-index: 1;}#sk-container-id-1 div.sk-parallel {display: flex;align-items: stretch;justify-content: center;background-color: white;position: relative;}#sk-container-id-1 div.sk-item::before, #sk-container-id-1 div.sk-parallel-item::before {content: \"\";position: absolute;border-left: 1px solid gray;box-sizing: border-box;top: 0;bottom: 0;left: 50%;z-index: -1;}#sk-container-id-1 div.sk-parallel-item {display: flex;flex-direction: column;z-index: 1;position: relative;background-color: white;}#sk-container-id-1 div.sk-parallel-item:first-child::after {align-self: flex-end;width: 50%;}#sk-container-id-1 div.sk-parallel-item:last-child::after {align-self: flex-start;width: 50%;}#sk-container-id-1 div.sk-parallel-item:only-child::after {width: 0;}#sk-container-id-1 div.sk-dashed-wrapped {border: 1px dashed gray;margin: 0 0.4em 0.5em 0.4em;box-sizing: border-box;padding-bottom: 0.4em;background-color: white;}#sk-container-id-1 div.sk-label label {font-family: monospace;font-weight: bold;display: inline-block;line-height: 1.2em;}#sk-container-id-1 div.sk-label-container {text-align: center;}#sk-container-id-1 div.sk-container {/* jupyter's `normalize.less` sets `[hidden] { display: none; }` but bootstrap.min.css set `[hidden] { display: none !important; }` so we also need the `!important` here to be able to override the default hidden behavior on the sphinx rendered scikit-learn.org. See: https://github.com/scikit-learn/scikit-learn/issues/21755 */display: inline-block !important;position: relative;}#sk-container-id-1 div.sk-text-repr-fallback {display: none;}</style><div id=\"sk-container-id-1\" class=\"sk-top-container\"><div class=\"sk-text-repr-fallback\"><pre>GradientBoostingClassifier(learning_rate=1, max_depth=2, max_features=2,\n",
       "                           random_state=0)</pre><b>In a Jupyter environment, please rerun this cell to show the HTML representation or trust the notebook. <br />On GitHub, the HTML representation is unable to render, please try loading this page with nbviewer.org.</b></div><div class=\"sk-container\" hidden><div class=\"sk-item\"><div class=\"sk-estimator sk-toggleable\"><input class=\"sk-toggleable__control sk-hidden--visually\" id=\"sk-estimator-id-1\" type=\"checkbox\" checked><label for=\"sk-estimator-id-1\" class=\"sk-toggleable__label sk-toggleable__label-arrow\">GradientBoostingClassifier</label><div class=\"sk-toggleable__content\"><pre>GradientBoostingClassifier(learning_rate=1, max_depth=2, max_features=2,\n",
       "                           random_state=0)</pre></div></div></div></div></div>"
      ],
      "text/plain": [
       "GradientBoostingClassifier(learning_rate=1, max_depth=2, max_features=2,\n",
       "                           random_state=0)"
      ]
     },
     "execution_count": 55,
     "metadata": {},
     "output_type": "execute_result"
    }
   ],
   "source": [
    "gbc_m1 = GradientBoostingClassifier(n_estimators=100, learning_rate=1, max_features=2, max_depth=2, random_state=0)\n",
    "gbc_m1.fit(X_train_os, y_train_os.values.ravel())"
   ]
  },
  {
   "cell_type": "markdown",
   "metadata": {},
   "source": [
    "**3.2 b) Model evaludation**\n",
    "- True Positive Rate, True Negative Rate, False Positive Rate, False Negative Rate, Confusion Matrix\n",
    "- Precision, recall, F1-score and support\n",
    "- ROC Curve"
   ]
  },
  {
   "cell_type": "code",
   "execution_count": 56,
   "metadata": {},
   "outputs": [],
   "source": [
    "# Confusion Matrix\n",
    "from sklearn.metrics import confusion_matrix\n",
    "\n",
    "def printGBCConfusionMatrix(gbc, y_train_os_pred, y_test_pred):\n",
    "    # Check the Goodness of Fit (on Train Data)\n",
    "    print(\"Goodness of Fit of Model \\tTrain Dataset\")\n",
    "    print(\"Classification Accuracy \\t:\", gbc.score(X_train_os, y_train_os))\n",
    "    CM1 = confusion_matrix(y_train_os, y_train_os_pred)\n",
    "    TN1 = CM1[0][0]\n",
    "    FN1 = CM1[1][0]\n",
    "    TP1 = CM1[1][1]\n",
    "    FP1 = CM1[0][1]\n",
    "    TPR1 = TP1 / (TP1 + FN1)\n",
    "    TNR1 = TN1 / (TN1 + FP1)\n",
    "    FPR1 = FP1/(TN1+FP1)\n",
    "    FNR1 = FN1/(TP1+FN1)\n",
    "    print(\"True Positive Rate:\\t\", TPR1)\n",
    "    print(\"True Negative Rate:\\t\", TNR1)\n",
    "    print(\"False Postive Rate:\\t\", FPR1)\n",
    "    print(\"False Negative Rate:\\t\", FNR1)\n",
    "    print()\n",
    "\n",
    "    # Check the Goodness of Fit (on Test Data)\n",
    "    print(\"Goodness of Fit of Model \\tTest Dataset\")\n",
    "    print(\"Classification Accuracy \\t:\", gbc.score(X_test, y_test))\n",
    "    print()\n",
    "    CM2 = metrics.confusion_matrix(y_test, y_test_pred)\n",
    "    TN2 = CM2[0][0]\n",
    "    FN2 = CM2[1][0]\n",
    "    TP2 = CM2[1][1]\n",
    "    FP2 = CM2[0][1]\n",
    "    TPR2 = TP2 / (TP2 + FN2)\n",
    "    TNR2 = TN2 / (TN2 + FP2)\n",
    "    FPR2 = FP2/(TN2+FP2)\n",
    "    FNR2 = FN2/(TP2+FN2)\n",
    "    print(\"The True Positive Rate is\\t\", TPR2)\n",
    "    print(\"The True Negative Rate is\\t\", TNR2)\n",
    "    print(\"False Postive Rate:\\t\", FPR2)\n",
    "    print(\"False Negative Rate:\\t\", FNR2)\n",
    "    print()\n",
    "\n",
    "    # Plot the Confusion Matrix for Train and Test\n",
    "    f, axes = plt.subplots(1, 2, figsize=(12, 4))\n",
    "    sb.heatmap(CM1, annot = True, fmt=\".0f\", \n",
    "               annot_kws={\"size\": 18}, ax = axes[0])\n",
    "    sb.heatmap(CM2, annot = True, fmt=\".0f\", \n",
    "               annot_kws={\"size\": 18}, ax = axes[1])\n",
    "\n",
    "\n",
    "# Precision, Recall, F1-score and Support\n",
    "from sklearn.metrics import classification_report\n",
    "\n",
    "def computeClassificationReport(y_test, y_pred):\n",
    "    print(classification_report(y_test, y_pred))\n",
    "\n",
    "\n",
    "# ROC Curve\n",
    "import matplotlib.pyplot as plt\n",
    "plt.rc(\"font\", size=14)\n",
    "from sklearn.metrics import roc_auc_score\n",
    "from sklearn.metrics import roc_curve\n",
    "\n",
    "def computeROCCurve(model, X_test, y_test, title):    \n",
    "    logit_roc_auc = roc_auc_score(y_test, model.predict(X_test))\n",
    "    fpr, tpr, thresholds = roc_curve(y_test, model.predict_proba(X_test)[:,1])\n",
    "    plt.figure()\n",
    "    plt.plot(fpr, tpr, label=title+' (area = %0.2f)' % logit_roc_auc)\n",
    "    plt.plot([0, 1], [0, 1],'r--')\n",
    "    plt.xlim([0.0, 1.0])\n",
    "    plt.ylim([0.0, 1.05])\n",
    "    plt.xlabel('False Positive Rate')\n",
    "    plt.ylabel('True Positive Rate')\n",
    "    plt.title('Receiver operating characteristic')\n",
    "    plt.legend(loc=\"lower right\")\n",
    "    \n",
    "    plt.show()"
   ]
  },
  {
   "cell_type": "markdown",
   "metadata": {},
   "source": [
    "**Confusion Matrix**"
   ]
  },
  {
   "cell_type": "code",
   "execution_count": 57,
   "metadata": {},
   "outputs": [
    {
     "name": "stdout",
     "output_type": "stream",
     "text": [
      "Goodness of Fit of Model \tTrain Dataset\n",
      "Classification Accuracy \t: 0.9080694080916734\n",
      "True Positive Rate:\t 0.8863731946622861\n",
      "True Negative Rate:\t 0.9297656215210605\n",
      "False Postive Rate:\t 0.07023437847893958\n",
      "False Negative Rate:\t 0.11362680533771381\n",
      "\n",
      "Goodness of Fit of Model \tTest Dataset\n",
      "Classification Accuracy \t: 0.8754229402808323\n",
      "\n",
      "The True Positive Rate is\t 0.3084391336818521\n",
      "The True Negative Rate is\t 0.9280580527373992\n",
      "False Postive Rate:\t 0.07194194726260082\n",
      "False Negative Rate:\t 0.6915608663181478\n",
      "\n"
     ]
    },
    {
     "data": {
      "image/png": "[encoded data removed]",
      "text/plain": [
       "<Figure size 864x288 with 4 Axes>"
      ]
     },
     "metadata": {
      "needs_background": "light"
     },
     "output_type": "display_data"
    }
   ],
   "source": [
    "# Confusion Matrix\n",
    "y_train_os_pred = gbc_m1.predict(X_train_os)\n",
    "y_test_pred = gbc_m1.predict(X_test)\n",
    "printGBCConfusionMatrix(gbc_m1, y_train_os_pred, y_test_pred)"
   ]
  },
  {
   "cell_type": "markdown",
   "metadata": {},
   "source": [
    "- High true positive and true negative rate for both train and test dataset\n",
    "- `High classification accuracy` on test dataset (87.54%)"
   ]
  },
  {
   "cell_type": "markdown",
   "metadata": {},
   "source": [
    "**Precision, Recall, F1-score and Support**"
   ]
  },
  {
   "cell_type": "code",
   "execution_count": 58,
   "metadata": {},
   "outputs": [
    {
     "name": "stdout",
     "output_type": "stream",
     "text": [
      "              precision    recall  f1-score   support\n",
      "\n",
      "           0       0.94      0.93      0.93     86542\n",
      "           1       0.28      0.31      0.30      8034\n",
      "\n",
      "    accuracy                           0.88     94576\n",
      "   macro avg       0.61      0.62      0.61     94576\n",
      "weighted avg       0.88      0.88      0.88     94576\n",
      "\n"
     ]
    }
   ],
   "source": [
    "computeClassificationReport(y_test, gbc_m1.predict(X_test))"
   ]
  },
  {
   "cell_type": "markdown",
   "metadata": {},
   "source": [
    "- `Excellent` weighted average for precision, recall, and f1-score, which shows that the model performs well (even better than logistic regression)"
   ]
  },
  {
   "cell_type": "markdown",
   "metadata": {},
   "source": [
    "**ROC Curve**"
   ]
  },
  {
   "cell_type": "code",
   "execution_count": 59,
   "metadata": {},
   "outputs": [
    {
     "data": {
      "image/png": "[encoded data removed]",
      "text/plain": [
       "<Figure size 432x288 with 1 Axes>"
      ]
     },
     "metadata": {
      "needs_background": "light"
     },
     "output_type": "display_data"
    }
   ],
   "source": [
    "computeROCCurve(gbc_m1, X_test, y_test, \"GradientBoostingClassifier\")"
   ]
  },
  {
   "cell_type": "markdown",
   "metadata": {},
   "source": [
    "- ROC AUC score of 0.62, which is quite decent although it is `worse` than that of Logistic Regression's"
   ]
  },
  {
   "cell_type": "markdown",
   "metadata": {},
   "source": [
    "#### 3.3 Comparison with Logistic Regression\n",
    "\n",
    "`Gradient Boosting Classifier model` is `better` than the best Logistic Regression model\n",
    "- There is a significant boost in the test dataset prediction performance from 74% to `87.54%`\n",
    "- Higher f-score\n",
    "\n",
    "<br>\n",
    "\n",
    "Therefore, we will use GradientBoostingClassifier model!"
   ]
  },
  {
   "cell_type": "markdown",
   "metadata": {},
   "source": [
    "#### 3.4 Feature Importance\n",
    "\n",
    "Get the top 20 features and compare the base features with that of logistic regression's top features\n",
    "\n",
    "- https://www.kaggle.com/code/ericbae731/feature-importance-of-gradient-boosting-simple/notebook\n",
    "- https://medium.com/geekculture/finding-the-important-features-of-a-feature-set-a-classification-task-with-sklearns-algorithms-3003f740faf9"
   ]
  },
  {
   "cell_type": "markdown",
   "metadata": {},
   "source": [
    "**3.4 a) GBC Feature importance**"
   ]
  },
  {
   "cell_type": "code",
   "execution_count": 60,
   "metadata": {},
   "outputs": [
    {
     "data": {
      "image/png": "[encoded data removed]",
      "text/plain": [
       "<Figure size 576x1296 with 1 Axes>"
      ]
     },
     "metadata": {
      "needs_background": "light"
     },
     "output_type": "display_data"
    }
   ],
   "source": [
    "# Reference: https://www.kaggle.com/code/ericbae731/feature-importance-of-gradient-boosting-simple/notebook\n",
    "# Plot feature importance https://scikit-learn.org/stable/modules/generated/sklearn.svm.SVR.html#sklearn.svm.SVR\n",
    "feature_importance = gbc_m1.feature_importances_\n",
    "# make importances relative to max importance\n",
    "feature_importance = 100.0 * (feature_importance / feature_importance.max())\n",
    "sorted_idx = np.argsort(feature_importance)\n",
    "pos = np.arange(sorted_idx.shape[0]) + .5\n",
    "# plt.subplot(1, 2, 2)\n",
    "plt.figure(figsize=(8, 18))\n",
    "plt.barh(pos, feature_importance[sorted_idx], align='center')\n",
    "plt.yticks(pos, X_train.keys()[sorted_idx])\n",
    "plt.xlabel('Relative Importance')\n",
    "plt.title('Variable Importance')\n",
    "plt.show()"
   ]
  },
  {
   "cell_type": "code",
   "execution_count": 61,
   "metadata": {},
   "outputs": [
    {
     "data": {
      "text/html": [
       "<div>\n",
       "<style scoped>\n",
       "    .dataframe tbody tr th:only-of-type {\n",
       "        vertical-align: middle;\n",
       "    }\n",
       "\n",
       "    .dataframe tbody tr th {\n",
       "        vertical-align: top;\n",
       "    }\n",
       "\n",
       "    .dataframe thead th {\n",
       "        text-align: right;\n",
       "    }\n",
       "</style>\n",
       "<table border=\"1\" class=\"dataframe\">\n",
       "  <thead>\n",
       "    <tr style=\"text-align: right;\">\n",
       "      <th></th>\n",
       "      <th>features</th>\n",
       "      <th>weights</th>\n",
       "    </tr>\n",
       "  </thead>\n",
       "  <tbody>\n",
       "    <tr>\n",
       "      <th>8</th>\n",
       "      <td>Stroke_No</td>\n",
       "      <td>0.121616</td>\n",
       "    </tr>\n",
       "    <tr>\n",
       "      <th>13</th>\n",
       "      <td>Sex_Male</td>\n",
       "      <td>0.077216</td>\n",
       "    </tr>\n",
       "    <tr>\n",
       "      <th>37</th>\n",
       "      <td>PhysicalActivity_No</td>\n",
       "      <td>0.063189</td>\n",
       "    </tr>\n",
       "    <tr>\n",
       "      <th>40</th>\n",
       "      <td>GenHealth_Fair</td>\n",
       "      <td>0.052195</td>\n",
       "    </tr>\n",
       "    <tr>\n",
       "      <th>24</th>\n",
       "      <td>AgeCategory_70-74</td>\n",
       "      <td>0.048813</td>\n",
       "    </tr>\n",
       "    <tr>\n",
       "      <th>41</th>\n",
       "      <td>GenHealth_Good</td>\n",
       "      <td>0.048213</td>\n",
       "    </tr>\n",
       "    <tr>\n",
       "      <th>25</th>\n",
       "      <td>AgeCategory_75-79</td>\n",
       "      <td>0.044708</td>\n",
       "    </tr>\n",
       "    <tr>\n",
       "      <th>26</th>\n",
       "      <td>AgeCategory_80 or older</td>\n",
       "      <td>0.042845</td>\n",
       "    </tr>\n",
       "    <tr>\n",
       "      <th>17</th>\n",
       "      <td>AgeCategory_35-39</td>\n",
       "      <td>0.041104</td>\n",
       "    </tr>\n",
       "    <tr>\n",
       "      <th>23</th>\n",
       "      <td>AgeCategory_65-69</td>\n",
       "      <td>0.036580</td>\n",
       "    </tr>\n",
       "    <tr>\n",
       "      <th>18</th>\n",
       "      <td>AgeCategory_40-44</td>\n",
       "      <td>0.036296</td>\n",
       "    </tr>\n",
       "    <tr>\n",
       "      <th>4</th>\n",
       "      <td>Smoking_No</td>\n",
       "      <td>0.035977</td>\n",
       "    </tr>\n",
       "    <tr>\n",
       "      <th>6</th>\n",
       "      <td>AlcoholDrinking_No</td>\n",
       "      <td>0.035229</td>\n",
       "    </tr>\n",
       "    <tr>\n",
       "      <th>48</th>\n",
       "      <td>SkinCancer_No</td>\n",
       "      <td>0.034034</td>\n",
       "    </tr>\n",
       "    <tr>\n",
       "      <th>32</th>\n",
       "      <td>Race_White</td>\n",
       "      <td>0.025485</td>\n",
       "    </tr>\n",
       "    <tr>\n",
       "      <th>35</th>\n",
       "      <td>Diabetic_Yes</td>\n",
       "      <td>0.021874</td>\n",
       "    </tr>\n",
       "    <tr>\n",
       "      <th>45</th>\n",
       "      <td>Asthma_Yes</td>\n",
       "      <td>0.016067</td>\n",
       "    </tr>\n",
       "    <tr>\n",
       "      <th>38</th>\n",
       "      <td>PhysicalActivity_Yes</td>\n",
       "      <td>0.016006</td>\n",
       "    </tr>\n",
       "    <tr>\n",
       "      <th>16</th>\n",
       "      <td>AgeCategory_30-34</td>\n",
       "      <td>0.015504</td>\n",
       "    </tr>\n",
       "    <tr>\n",
       "      <th>20</th>\n",
       "      <td>AgeCategory_50-54</td>\n",
       "      <td>0.014940</td>\n",
       "    </tr>\n",
       "  </tbody>\n",
       "</table>\n",
       "</div>"
      ],
      "text/plain": [
       "                   features   weights\n",
       "8                 Stroke_No  0.121616\n",
       "13                 Sex_Male  0.077216\n",
       "37      PhysicalActivity_No  0.063189\n",
       "40           GenHealth_Fair  0.052195\n",
       "24        AgeCategory_70-74  0.048813\n",
       "41           GenHealth_Good  0.048213\n",
       "25        AgeCategory_75-79  0.044708\n",
       "26  AgeCategory_80 or older  0.042845\n",
       "17        AgeCategory_35-39  0.041104\n",
       "23        AgeCategory_65-69  0.036580\n",
       "18        AgeCategory_40-44  0.036296\n",
       "4                Smoking_No  0.035977\n",
       "6        AlcoholDrinking_No  0.035229\n",
       "48            SkinCancer_No  0.034034\n",
       "32               Race_White  0.025485\n",
       "35             Diabetic_Yes  0.021874\n",
       "45               Asthma_Yes  0.016067\n",
       "38     PhysicalActivity_Yes  0.016006\n",
       "16        AgeCategory_30-34  0.015504\n",
       "20        AgeCategory_50-54  0.014940"
      ]
     },
     "execution_count": 61,
     "metadata": {},
     "output_type": "execute_result"
    }
   ],
   "source": [
    "# reference: https://medium.com/geekculture/finding-the-important-features-of-a-feature-set-a-classification-task-with-sklearns-algorithms-3003f740faf9\n",
    "# get top 20 features\n",
    "imp_features = gbc_m1.feature_importances_\n",
    "\n",
    "df_imp_features = pd.DataFrame({\"features\":X_train.keys()}).join(pd.DataFrame({\"weights\":imp_features}))\n",
    "df_imp_features.sort_values(by=['weights'], ascending=False, inplace=True)\n",
    "df_imp_features.head(20)"
   ]
  },
  {
   "cell_type": "code",
   "execution_count": 62,
   "metadata": {},
   "outputs": [
    {
     "name": "stdout",
     "output_type": "stream",
     "text": [
      "['Stroke_No', 'Sex_Male', 'PhysicalActivity_No', 'GenHealth_Fair', 'AgeCategory_70-74', 'GenHealth_Good', 'AgeCategory_75-79', 'AgeCategory_80 or older', 'AgeCategory_35-39', 'AgeCategory_65-69', 'AgeCategory_40-44', 'Smoking_No', 'AlcoholDrinking_No', 'SkinCancer_No', 'Race_White', 'Diabetic_Yes', 'Asthma_Yes', 'PhysicalActivity_Yes', 'AgeCategory_30-34', 'AgeCategory_50-54']\n"
     ]
    }
   ],
   "source": [
    "print(df_imp_features.head(20)['features'].tolist())"
   ]
  },
  {
   "cell_type": "markdown",
   "metadata": {},
   "source": [
    "Top 11 important features are:\n",
    "- `Stroke`\n",
    "- Sex\n",
    "- PhysicalActivity\n",
    "- GenHealth\n",
    "- AgeCategory\n",
    "- Smoking\n",
    "- AlcoholDrinking\n",
    "- SkinCancer\n",
    "- Race\n",
    "- Diabetic\n",
    "- Asthma\n",
    "\n",
    "According to the feature importance weights, `Stroke` is an `extremely feature` as it has the greatest weight value of 0.12 which is significantly more than the other features' weight value"
   ]
  },
  {
   "cell_type": "markdown",
   "metadata": {},
   "source": [
    "**3.4 b) Comparing top features with logistic regression's**\n",
    "\n",
    "The 6 important features from Logistic Regression are:\n",
    "- AlcoholDrinking\n",
    "- Stroke\n",
    "- AgeCategory\n",
    "- Race\n",
    "- Diabetic\n",
    "- GenHealth\n",
    "\n",
    "<br>\n",
    "\n",
    "**All of the 6 features included** in Logistic Regression are included in the Gradient Boosting Classifier! Hence, we can include all the 6 questions we have previously written for users to follow, and add on 6 more questions pertaining to 'Sex', 'PhysicalActivity', 'Smoking', 'SkinCancer', and 'Asthma'."
   ]
  },
  {
   "cell_type": "markdown",
   "metadata": {},
   "source": [
    "#### 3.5 Export Gradient Boosting Classifier (gbc_m1)\n",
    "\n",
    "**3.5 a) Export**\n"
   ]
  },
  {
   "cell_type": "code",
   "execution_count": 63,
   "metadata": {},
   "outputs": [
    {
     "data": {
      "text/plain": [
       "['models/stage1_gbc_m1.sav']"
      ]
     },
     "execution_count": 63,
     "metadata": {},
     "output_type": "execute_result"
    }
   ],
   "source": [
    "# Save Model Using joblib\n",
    "import joblib\n",
    "\n",
    "# save the models to disk\n",
    "filename = 'models/stage1_gbc_m1.sav'\n",
    "joblib.dump(gbc_m1, filename)\n"
   ]
  },
  {
   "cell_type": "markdown",
   "metadata": {},
   "source": [
    "**3.5 b) How to Import:**"
   ]
  },
  {
   "cell_type": "code",
   "execution_count": 64,
   "metadata": {},
   "outputs": [
    {
     "name": "stdout",
     "output_type": "stream",
     "text": [
      "0.8754229402808323\n"
     ]
    }
   ],
   "source": [
    "# some time later...\n",
    " \n",
    "# load the model from disk\n",
    "loaded_gbc_m1 = joblib.load('models/stage1_gbc_m1.sav')\n",
    "result = loaded_gbc_m1.score(X_test, y_test)\n",
    "print(result)"
   ]
  },
  {
   "cell_type": "markdown",
   "metadata": {},
   "source": [
    "<hr>\n",
    "\n",
    "## 4. Stage 1 Conclusion\n",
    "\n",
    "- `Gradient Boosting Classifier` (gcb_m1) perform better than logistic regression (87.54% vs 74%)\n",
    "- Top features from logistic regression supports and evidence that the **top features in GBC is valid and reliable**\n",
    "\n",
    "<br>\n",
    "\n",
    "Top **11 important features** are:\n",
    "- `Stroke`\n",
    "- Sex\n",
    "- PhysicalActivity\n",
    "- GenHealth\n",
    "- AgeCategory\n",
    "- Smoking\n",
    "- AlcoholDrinking\n",
    "- SkinCancer\n",
    "- Race\n",
    "- Diabetic\n",
    "- Asthma\n",
    "\n",
    "We also found that `Stroke` is an `extremely feature` in predicting cardiovascular disease.\n",
    "\n",
    "Therefore, users can answer questions with respect to the 11 features listed above to gain insight to their cardiovascular health."
   ]
  },
  {
   "cell_type": "code",
   "execution_count": 66,
   "metadata": {},
   "outputs": [
    {
     "data": {
      "text/html": [
       "<div>\n",
       "<style scoped>\n",
       "    .dataframe tbody tr th:only-of-type {\n",
       "        vertical-align: middle;\n",
       "    }\n",
       "\n",
       "    .dataframe tbody tr th {\n",
       "        vertical-align: top;\n",
       "    }\n",
       "\n",
       "    .dataframe thead th {\n",
       "        text-align: right;\n",
       "    }\n",
       "</style>\n",
       "<table border=\"1\" class=\"dataframe\">\n",
       "  <thead>\n",
       "    <tr style=\"text-align: right;\">\n",
       "      <th></th>\n",
       "      <th>Analytic Model</th>\n",
       "    </tr>\n",
       "  </thead>\n",
       "  <tbody>\n",
       "    <tr>\n",
       "      <th>Gradient Boosting Classifier</th>\n",
       "      <td>0.875423</td>\n",
       "    </tr>\n",
       "    <tr>\n",
       "      <th>Logistic Regression</th>\n",
       "      <td>0.742440</td>\n",
       "    </tr>\n",
       "  </tbody>\n",
       "</table>\n",
       "</div>"
      ],
      "text/plain": [
       "                              Analytic Model\n",
       "Gradient Boosting Classifier        0.875423\n",
       "Logistic Regression                 0.742440"
      ]
     },
     "execution_count": 66,
     "metadata": {},
     "output_type": "execute_result"
    }
   ],
   "source": [
    "pd.DataFrame([gbc_m1.score(X_test, y_test), logreg_m21.score(X_test[rfe_21.get_feature_names_out()], y_test)], columns=[\"Analytic Model\"], index=[\"Gradient Boosting Classifier\",\"Logistic Regression\"])\n"
   ]
  },
  {
   "cell_type": "code",
   "execution_count": 67,
   "metadata": {},
   "outputs": [
    {
     "name": "stdout",
     "output_type": "stream",
     "text": [
      "DANGER! You will have a heart attack soon!\n"
     ]
    }
   ],
   "source": [
    "# Sample\n",
    "\n",
    "# asumming this this a individual's answers (after OneHotEncoding)\n",
    "userAnswers = pd.DataFrame(X_train.loc[7,]).T\n",
    "\n",
    "userResult = \"DANGER! You will have a heart attack soon!\" if gbc_m1.predict(userAnswers)[0] else \"You are safe :)\"\n",
    "\n",
    "print(userResult)"
   ]
  },
  {
   "cell_type": "markdown",
   "metadata": {},
   "source": [
    "<hr>\n",
    "\n",
    "### At risk? On To Stage 2! 🚴🏻‍♀️🚴🏻"
   ]
  },
  {
   "cell_type": "markdown",
   "metadata": {},
   "source": []
  }
 ],
 "metadata": {
  "kernelspec": {
   "display_name": "Python 3.9.6 64-bit",
   "language": "python",
   "name": "python3"
  },
  "language_info": {
   "codemirror_mode": {
    "name": "ipython",
    "version": 3
   },
   "file_extension": ".py",
   "mimetype": "text/x-python",
   "name": "python",
   "nbconvert_exporter": "python",
   "pygments_lexer": "ipython3",
   "version": "3.9.6"
  },
  "orig_nbformat": 4,
  "vscode": {
   "interpreter": {
    "hash": "81794d4967e6c3204c66dcd87b604927b115b27c00565d3d43f05ba2f3a2cb0d"
   }
  }
 },
 "nbformat": 4,
 "nbformat_minor": 2
}
